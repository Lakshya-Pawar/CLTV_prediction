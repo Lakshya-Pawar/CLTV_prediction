{
 "cells": [
  {
   "cell_type": "code",
   "execution_count": 2,
   "id": "6673525d-15dc-499f-b71b-299890ac826f",
   "metadata": {},
   "outputs": [],
   "source": [
    "import pandas as pd\n",
    "import numpy as np\n",
    "import matplotlib.pyplot as plt\n",
    "import seaborn as sns"
   ]
  },
  {
   "cell_type": "code",
   "execution_count": 3,
   "id": "43fe836e-a128-4691-af60-90d6b2d7d665",
   "metadata": {},
   "outputs": [],
   "source": [
    "df1 = pd.read_excel(\"online_retail_II.xlsx\", sheet_name=\"Year 2010-2011\")"
   ]
  },
  {
   "cell_type": "code",
   "execution_count": 4,
   "id": "3af9f2f3-8c5b-4968-94c2-863c2bc90024",
   "metadata": {},
   "outputs": [
    {
     "data": {
      "text/html": [
       "<div>\n",
       "<style scoped>\n",
       "    .dataframe tbody tr th:only-of-type {\n",
       "        vertical-align: middle;\n",
       "    }\n",
       "\n",
       "    .dataframe tbody tr th {\n",
       "        vertical-align: top;\n",
       "    }\n",
       "\n",
       "    .dataframe thead th {\n",
       "        text-align: right;\n",
       "    }\n",
       "</style>\n",
       "<table border=\"1\" class=\"dataframe\">\n",
       "  <thead>\n",
       "    <tr style=\"text-align: right;\">\n",
       "      <th></th>\n",
       "      <th>Invoice</th>\n",
       "      <th>StockCode</th>\n",
       "      <th>Description</th>\n",
       "      <th>Quantity</th>\n",
       "      <th>InvoiceDate</th>\n",
       "      <th>Price</th>\n",
       "      <th>Customer ID</th>\n",
       "      <th>Country</th>\n",
       "    </tr>\n",
       "  </thead>\n",
       "  <tbody>\n",
       "    <tr>\n",
       "      <th>0</th>\n",
       "      <td>536365</td>\n",
       "      <td>85123A</td>\n",
       "      <td>WHITE HANGING HEART T-LIGHT HOLDER</td>\n",
       "      <td>6</td>\n",
       "      <td>2010-12-01 08:26:00</td>\n",
       "      <td>2.55</td>\n",
       "      <td>17850.0</td>\n",
       "      <td>United Kingdom</td>\n",
       "    </tr>\n",
       "    <tr>\n",
       "      <th>1</th>\n",
       "      <td>536365</td>\n",
       "      <td>71053</td>\n",
       "      <td>WHITE METAL LANTERN</td>\n",
       "      <td>6</td>\n",
       "      <td>2010-12-01 08:26:00</td>\n",
       "      <td>3.39</td>\n",
       "      <td>17850.0</td>\n",
       "      <td>United Kingdom</td>\n",
       "    </tr>\n",
       "    <tr>\n",
       "      <th>2</th>\n",
       "      <td>536365</td>\n",
       "      <td>84406B</td>\n",
       "      <td>CREAM CUPID HEARTS COAT HANGER</td>\n",
       "      <td>8</td>\n",
       "      <td>2010-12-01 08:26:00</td>\n",
       "      <td>2.75</td>\n",
       "      <td>17850.0</td>\n",
       "      <td>United Kingdom</td>\n",
       "    </tr>\n",
       "    <tr>\n",
       "      <th>3</th>\n",
       "      <td>536365</td>\n",
       "      <td>84029G</td>\n",
       "      <td>KNITTED UNION FLAG HOT WATER BOTTLE</td>\n",
       "      <td>6</td>\n",
       "      <td>2010-12-01 08:26:00</td>\n",
       "      <td>3.39</td>\n",
       "      <td>17850.0</td>\n",
       "      <td>United Kingdom</td>\n",
       "    </tr>\n",
       "    <tr>\n",
       "      <th>4</th>\n",
       "      <td>536365</td>\n",
       "      <td>84029E</td>\n",
       "      <td>RED WOOLLY HOTTIE WHITE HEART.</td>\n",
       "      <td>6</td>\n",
       "      <td>2010-12-01 08:26:00</td>\n",
       "      <td>3.39</td>\n",
       "      <td>17850.0</td>\n",
       "      <td>United Kingdom</td>\n",
       "    </tr>\n",
       "  </tbody>\n",
       "</table>\n",
       "</div>"
      ],
      "text/plain": [
       "  Invoice StockCode                          Description  Quantity  \\\n",
       "0  536365    85123A   WHITE HANGING HEART T-LIGHT HOLDER         6   \n",
       "1  536365     71053                  WHITE METAL LANTERN         6   \n",
       "2  536365    84406B       CREAM CUPID HEARTS COAT HANGER         8   \n",
       "3  536365    84029G  KNITTED UNION FLAG HOT WATER BOTTLE         6   \n",
       "4  536365    84029E       RED WOOLLY HOTTIE WHITE HEART.         6   \n",
       "\n",
       "          InvoiceDate  Price  Customer ID         Country  \n",
       "0 2010-12-01 08:26:00   2.55      17850.0  United Kingdom  \n",
       "1 2010-12-01 08:26:00   3.39      17850.0  United Kingdom  \n",
       "2 2010-12-01 08:26:00   2.75      17850.0  United Kingdom  \n",
       "3 2010-12-01 08:26:00   3.39      17850.0  United Kingdom  \n",
       "4 2010-12-01 08:26:00   3.39      17850.0  United Kingdom  "
      ]
     },
     "execution_count": 4,
     "metadata": {},
     "output_type": "execute_result"
    }
   ],
   "source": [
    "df1.head()"
   ]
  },
  {
   "cell_type": "code",
   "execution_count": 5,
   "id": "50c68941-a68b-4d4a-a0d6-da8f930b7bc6",
   "metadata": {},
   "outputs": [],
   "source": [
    "df2 = pd.read_excel(\"online_retail_II.xlsx\", sheet_name=\"Year 2009-2010\")"
   ]
  },
  {
   "cell_type": "code",
   "execution_count": 6,
   "id": "534ceafb-b87d-4dff-8b2c-694de1662733",
   "metadata": {},
   "outputs": [
    {
     "data": {
      "text/html": [
       "<div>\n",
       "<style scoped>\n",
       "    .dataframe tbody tr th:only-of-type {\n",
       "        vertical-align: middle;\n",
       "    }\n",
       "\n",
       "    .dataframe tbody tr th {\n",
       "        vertical-align: top;\n",
       "    }\n",
       "\n",
       "    .dataframe thead th {\n",
       "        text-align: right;\n",
       "    }\n",
       "</style>\n",
       "<table border=\"1\" class=\"dataframe\">\n",
       "  <thead>\n",
       "    <tr style=\"text-align: right;\">\n",
       "      <th></th>\n",
       "      <th>Invoice</th>\n",
       "      <th>StockCode</th>\n",
       "      <th>Description</th>\n",
       "      <th>Quantity</th>\n",
       "      <th>InvoiceDate</th>\n",
       "      <th>Price</th>\n",
       "      <th>Customer ID</th>\n",
       "      <th>Country</th>\n",
       "    </tr>\n",
       "  </thead>\n",
       "  <tbody>\n",
       "    <tr>\n",
       "      <th>0</th>\n",
       "      <td>489434</td>\n",
       "      <td>85048</td>\n",
       "      <td>15CM CHRISTMAS GLASS BALL 20 LIGHTS</td>\n",
       "      <td>12</td>\n",
       "      <td>2009-12-01 07:45:00</td>\n",
       "      <td>6.95</td>\n",
       "      <td>13085.0</td>\n",
       "      <td>United Kingdom</td>\n",
       "    </tr>\n",
       "    <tr>\n",
       "      <th>1</th>\n",
       "      <td>489434</td>\n",
       "      <td>79323P</td>\n",
       "      <td>PINK CHERRY LIGHTS</td>\n",
       "      <td>12</td>\n",
       "      <td>2009-12-01 07:45:00</td>\n",
       "      <td>6.75</td>\n",
       "      <td>13085.0</td>\n",
       "      <td>United Kingdom</td>\n",
       "    </tr>\n",
       "    <tr>\n",
       "      <th>2</th>\n",
       "      <td>489434</td>\n",
       "      <td>79323W</td>\n",
       "      <td>WHITE CHERRY LIGHTS</td>\n",
       "      <td>12</td>\n",
       "      <td>2009-12-01 07:45:00</td>\n",
       "      <td>6.75</td>\n",
       "      <td>13085.0</td>\n",
       "      <td>United Kingdom</td>\n",
       "    </tr>\n",
       "    <tr>\n",
       "      <th>3</th>\n",
       "      <td>489434</td>\n",
       "      <td>22041</td>\n",
       "      <td>RECORD FRAME 7\" SINGLE SIZE</td>\n",
       "      <td>48</td>\n",
       "      <td>2009-12-01 07:45:00</td>\n",
       "      <td>2.10</td>\n",
       "      <td>13085.0</td>\n",
       "      <td>United Kingdom</td>\n",
       "    </tr>\n",
       "    <tr>\n",
       "      <th>4</th>\n",
       "      <td>489434</td>\n",
       "      <td>21232</td>\n",
       "      <td>STRAWBERRY CERAMIC TRINKET BOX</td>\n",
       "      <td>24</td>\n",
       "      <td>2009-12-01 07:45:00</td>\n",
       "      <td>1.25</td>\n",
       "      <td>13085.0</td>\n",
       "      <td>United Kingdom</td>\n",
       "    </tr>\n",
       "  </tbody>\n",
       "</table>\n",
       "</div>"
      ],
      "text/plain": [
       "  Invoice StockCode                          Description  Quantity  \\\n",
       "0  489434     85048  15CM CHRISTMAS GLASS BALL 20 LIGHTS        12   \n",
       "1  489434    79323P                   PINK CHERRY LIGHTS        12   \n",
       "2  489434    79323W                  WHITE CHERRY LIGHTS        12   \n",
       "3  489434     22041         RECORD FRAME 7\" SINGLE SIZE         48   \n",
       "4  489434     21232       STRAWBERRY CERAMIC TRINKET BOX        24   \n",
       "\n",
       "          InvoiceDate  Price  Customer ID         Country  \n",
       "0 2009-12-01 07:45:00   6.95      13085.0  United Kingdom  \n",
       "1 2009-12-01 07:45:00   6.75      13085.0  United Kingdom  \n",
       "2 2009-12-01 07:45:00   6.75      13085.0  United Kingdom  \n",
       "3 2009-12-01 07:45:00   2.10      13085.0  United Kingdom  \n",
       "4 2009-12-01 07:45:00   1.25      13085.0  United Kingdom  "
      ]
     },
     "execution_count": 6,
     "metadata": {},
     "output_type": "execute_result"
    }
   ],
   "source": [
    "df2.head()"
   ]
  },
  {
   "cell_type": "code",
   "execution_count": 7,
   "id": "5b23f9ed-45e7-4c15-b231-92f61cb30852",
   "metadata": {},
   "outputs": [],
   "source": [
    "df = pd.concat([df1, df2])"
   ]
  },
  {
   "cell_type": "code",
   "execution_count": 8,
   "id": "9fa65c9b-7637-426b-942e-1116a61ef5e4",
   "metadata": {},
   "outputs": [
    {
     "data": {
      "text/plain": [
       "(1067371, 8)"
      ]
     },
     "execution_count": 8,
     "metadata": {},
     "output_type": "execute_result"
    }
   ],
   "source": [
    "df.shape"
   ]
  },
  {
   "cell_type": "code",
   "execution_count": 9,
   "id": "293e0ce6-0fa4-4546-876e-efdefe7c3739",
   "metadata": {},
   "outputs": [
    {
     "data": {
      "text/html": [
       "<div>\n",
       "<style scoped>\n",
       "    .dataframe tbody tr th:only-of-type {\n",
       "        vertical-align: middle;\n",
       "    }\n",
       "\n",
       "    .dataframe tbody tr th {\n",
       "        vertical-align: top;\n",
       "    }\n",
       "\n",
       "    .dataframe thead th {\n",
       "        text-align: right;\n",
       "    }\n",
       "</style>\n",
       "<table border=\"1\" class=\"dataframe\">\n",
       "  <thead>\n",
       "    <tr style=\"text-align: right;\">\n",
       "      <th></th>\n",
       "      <th>Invoice</th>\n",
       "      <th>StockCode</th>\n",
       "      <th>Description</th>\n",
       "      <th>Quantity</th>\n",
       "      <th>InvoiceDate</th>\n",
       "      <th>Price</th>\n",
       "      <th>Customer ID</th>\n",
       "      <th>Country</th>\n",
       "    </tr>\n",
       "  </thead>\n",
       "  <tbody>\n",
       "    <tr>\n",
       "      <th>0</th>\n",
       "      <td>536365</td>\n",
       "      <td>85123A</td>\n",
       "      <td>WHITE HANGING HEART T-LIGHT HOLDER</td>\n",
       "      <td>6</td>\n",
       "      <td>2010-12-01 08:26:00</td>\n",
       "      <td>2.55</td>\n",
       "      <td>17850.0</td>\n",
       "      <td>United Kingdom</td>\n",
       "    </tr>\n",
       "    <tr>\n",
       "      <th>1</th>\n",
       "      <td>536365</td>\n",
       "      <td>71053</td>\n",
       "      <td>WHITE METAL LANTERN</td>\n",
       "      <td>6</td>\n",
       "      <td>2010-12-01 08:26:00</td>\n",
       "      <td>3.39</td>\n",
       "      <td>17850.0</td>\n",
       "      <td>United Kingdom</td>\n",
       "    </tr>\n",
       "    <tr>\n",
       "      <th>2</th>\n",
       "      <td>536365</td>\n",
       "      <td>84406B</td>\n",
       "      <td>CREAM CUPID HEARTS COAT HANGER</td>\n",
       "      <td>8</td>\n",
       "      <td>2010-12-01 08:26:00</td>\n",
       "      <td>2.75</td>\n",
       "      <td>17850.0</td>\n",
       "      <td>United Kingdom</td>\n",
       "    </tr>\n",
       "    <tr>\n",
       "      <th>3</th>\n",
       "      <td>536365</td>\n",
       "      <td>84029G</td>\n",
       "      <td>KNITTED UNION FLAG HOT WATER BOTTLE</td>\n",
       "      <td>6</td>\n",
       "      <td>2010-12-01 08:26:00</td>\n",
       "      <td>3.39</td>\n",
       "      <td>17850.0</td>\n",
       "      <td>United Kingdom</td>\n",
       "    </tr>\n",
       "    <tr>\n",
       "      <th>4</th>\n",
       "      <td>536365</td>\n",
       "      <td>84029E</td>\n",
       "      <td>RED WOOLLY HOTTIE WHITE HEART.</td>\n",
       "      <td>6</td>\n",
       "      <td>2010-12-01 08:26:00</td>\n",
       "      <td>3.39</td>\n",
       "      <td>17850.0</td>\n",
       "      <td>United Kingdom</td>\n",
       "    </tr>\n",
       "  </tbody>\n",
       "</table>\n",
       "</div>"
      ],
      "text/plain": [
       "  Invoice StockCode                          Description  Quantity  \\\n",
       "0  536365    85123A   WHITE HANGING HEART T-LIGHT HOLDER         6   \n",
       "1  536365     71053                  WHITE METAL LANTERN         6   \n",
       "2  536365    84406B       CREAM CUPID HEARTS COAT HANGER         8   \n",
       "3  536365    84029G  KNITTED UNION FLAG HOT WATER BOTTLE         6   \n",
       "4  536365    84029E       RED WOOLLY HOTTIE WHITE HEART.         6   \n",
       "\n",
       "          InvoiceDate  Price  Customer ID         Country  \n",
       "0 2010-12-01 08:26:00   2.55      17850.0  United Kingdom  \n",
       "1 2010-12-01 08:26:00   3.39      17850.0  United Kingdom  \n",
       "2 2010-12-01 08:26:00   2.75      17850.0  United Kingdom  \n",
       "3 2010-12-01 08:26:00   3.39      17850.0  United Kingdom  \n",
       "4 2010-12-01 08:26:00   3.39      17850.0  United Kingdom  "
      ]
     },
     "execution_count": 9,
     "metadata": {},
     "output_type": "execute_result"
    }
   ],
   "source": [
    "df.head()"
   ]
  },
  {
   "cell_type": "code",
   "execution_count": 10,
   "id": "ebffda07-c2a6-4a0f-8089-fe50d921c313",
   "metadata": {},
   "outputs": [
    {
     "name": "stdout",
     "output_type": "stream",
     "text": [
      "<class 'pandas.core.frame.DataFrame'>\n",
      "Index: 1067371 entries, 0 to 525460\n",
      "Data columns (total 8 columns):\n",
      " #   Column       Non-Null Count    Dtype         \n",
      "---  ------       --------------    -----         \n",
      " 0   Invoice      1067371 non-null  object        \n",
      " 1   StockCode    1067371 non-null  object        \n",
      " 2   Description  1062989 non-null  object        \n",
      " 3   Quantity     1067371 non-null  int64         \n",
      " 4   InvoiceDate  1067371 non-null  datetime64[ns]\n",
      " 5   Price        1067371 non-null  float64       \n",
      " 6   Customer ID  824364 non-null   float64       \n",
      " 7   Country      1067371 non-null  object        \n",
      "dtypes: datetime64[ns](1), float64(2), int64(1), object(4)\n",
      "memory usage: 73.3+ MB\n"
     ]
    }
   ],
   "source": [
    "df.info()"
   ]
  },
  {
   "cell_type": "code",
   "execution_count": 11,
   "id": "d7244b74-9a1f-4360-8e63-faf2f6b9a674",
   "metadata": {},
   "outputs": [
    {
     "name": "stdout",
     "output_type": "stream",
     "text": [
      "number of unique customers: 5943\n"
     ]
    }
   ],
   "source": [
    "print(\"number of unique customers:\", len(df['Customer ID'].unique().tolist()))"
   ]
  },
  {
   "cell_type": "code",
   "execution_count": 12,
   "id": "3b0630b6-bbe9-40de-bcb0-d0ee86c45035",
   "metadata": {},
   "outputs": [
    {
     "data": {
      "text/plain": [
       "Invoice             0\n",
       "StockCode           0\n",
       "Description      4382\n",
       "Quantity            0\n",
       "InvoiceDate         0\n",
       "Price               0\n",
       "Customer ID    243007\n",
       "Country             0\n",
       "dtype: int64"
      ]
     },
     "execution_count": 12,
     "metadata": {},
     "output_type": "execute_result"
    }
   ],
   "source": [
    "df.isna().sum()"
   ]
  },
  {
   "cell_type": "code",
   "execution_count": 13,
   "id": "dbbde73a-80aa-40f5-94ec-74c3ff5ce3b6",
   "metadata": {},
   "outputs": [],
   "source": [
    "df.dropna(axis = 0, subset = [\"Description\"], inplace=True)"
   ]
  },
  {
   "cell_type": "code",
   "execution_count": 14,
   "id": "0e5b0b2f-aee9-4181-a201-3f10736d47c4",
   "metadata": {},
   "outputs": [],
   "source": [
    "df.dropna(axis = 0, subset = [\"Customer ID\"], inplace=True)"
   ]
  },
  {
   "cell_type": "code",
   "execution_count": 15,
   "id": "e1d12f1c-d37e-4136-bf3c-ee908d303056",
   "metadata": {},
   "outputs": [
    {
     "data": {
      "text/plain": [
       "(824364, 8)"
      ]
     },
     "execution_count": 15,
     "metadata": {},
     "output_type": "execute_result"
    }
   ],
   "source": [
    "df.shape"
   ]
  },
  {
   "cell_type": "code",
   "execution_count": 16,
   "id": "56e6a992-f5ec-44e7-8b38-f4f52d2831de",
   "metadata": {},
   "outputs": [
    {
     "data": {
      "text/plain": [
       "Invoice        0\n",
       "StockCode      0\n",
       "Description    0\n",
       "Quantity       0\n",
       "InvoiceDate    0\n",
       "Price          0\n",
       "Customer ID    0\n",
       "Country        0\n",
       "dtype: int64"
      ]
     },
     "execution_count": 16,
     "metadata": {},
     "output_type": "execute_result"
    }
   ],
   "source": [
    "df.isna().sum()"
   ]
  },
  {
   "cell_type": "code",
   "execution_count": 17,
   "id": "fdd14245-80bb-4567-a446-26728947af9e",
   "metadata": {},
   "outputs": [
    {
     "name": "stdout",
     "output_type": "stream",
     "text": [
      "<class 'pandas.core.frame.DataFrame'>\n",
      "Index: 824364 entries, 0 to 525460\n",
      "Data columns (total 8 columns):\n",
      " #   Column       Non-Null Count   Dtype         \n",
      "---  ------       --------------   -----         \n",
      " 0   Invoice      824364 non-null  object        \n",
      " 1   StockCode    824364 non-null  object        \n",
      " 2   Description  824364 non-null  object        \n",
      " 3   Quantity     824364 non-null  int64         \n",
      " 4   InvoiceDate  824364 non-null  datetime64[ns]\n",
      " 5   Price        824364 non-null  float64       \n",
      " 6   Customer ID  824364 non-null  float64       \n",
      " 7   Country      824364 non-null  object        \n",
      "dtypes: datetime64[ns](1), float64(2), int64(1), object(4)\n",
      "memory usage: 56.6+ MB\n"
     ]
    }
   ],
   "source": [
    "df.info()"
   ]
  },
  {
   "cell_type": "code",
   "execution_count": 18,
   "id": "659bfc48-db27-4a21-8d2f-81241a03820a",
   "metadata": {},
   "outputs": [
    {
     "data": {
      "text/plain": [
       "26479"
      ]
     },
     "execution_count": 18,
     "metadata": {},
     "output_type": "execute_result"
    }
   ],
   "source": [
    "len(df[df.duplicated()])"
   ]
  },
  {
   "cell_type": "code",
   "execution_count": 19,
   "id": "fb43eb58-0a71-4788-9d60-a226624e13ab",
   "metadata": {},
   "outputs": [],
   "source": [
    "df.drop_duplicates(inplace=True)"
   ]
  },
  {
   "cell_type": "code",
   "execution_count": 20,
   "id": "0391e3c0-4826-41e9-8023-837287492d42",
   "metadata": {},
   "outputs": [
    {
     "data": {
      "text/plain": [
       "(797885, 8)"
      ]
     },
     "execution_count": 20,
     "metadata": {},
     "output_type": "execute_result"
    }
   ],
   "source": [
    "df.shape"
   ]
  },
  {
   "cell_type": "code",
   "execution_count": 21,
   "id": "87774e66-ca88-4f86-9251-ef35a3d4e287",
   "metadata": {},
   "outputs": [],
   "source": [
    "df = df[df[\"Quantity\"] > 0]"
   ]
  },
  {
   "cell_type": "code",
   "execution_count": 22,
   "id": "39777c7b-fbf7-4fc5-a857-f6dadaeb6978",
   "metadata": {},
   "outputs": [
    {
     "data": {
      "text/plain": [
       "(779495, 8)"
      ]
     },
     "execution_count": 22,
     "metadata": {},
     "output_type": "execute_result"
    }
   ],
   "source": [
    "df.shape"
   ]
  },
  {
   "cell_type": "code",
   "execution_count": 23,
   "id": "9d40127d-6579-4f48-8ee0-a114d15b9ba7",
   "metadata": {},
   "outputs": [
    {
     "data": {
      "text/plain": [
       "(779425, 8)"
      ]
     },
     "execution_count": 23,
     "metadata": {},
     "output_type": "execute_result"
    }
   ],
   "source": [
    "df = df[df['Price'] > 0]\n",
    "df.shape"
   ]
  },
  {
   "cell_type": "code",
   "execution_count": 24,
   "id": "06f351ba-d6a4-4c75-a6cf-b44bca615589",
   "metadata": {},
   "outputs": [
    {
     "data": {
      "text/html": [
       "<div>\n",
       "<style scoped>\n",
       "    .dataframe tbody tr th:only-of-type {\n",
       "        vertical-align: middle;\n",
       "    }\n",
       "\n",
       "    .dataframe tbody tr th {\n",
       "        vertical-align: top;\n",
       "    }\n",
       "\n",
       "    .dataframe thead th {\n",
       "        text-align: right;\n",
       "    }\n",
       "</style>\n",
       "<table border=\"1\" class=\"dataframe\">\n",
       "  <thead>\n",
       "    <tr style=\"text-align: right;\">\n",
       "      <th></th>\n",
       "      <th>Invoice</th>\n",
       "      <th>StockCode</th>\n",
       "      <th>Description</th>\n",
       "      <th>Quantity</th>\n",
       "      <th>InvoiceDate</th>\n",
       "      <th>Price</th>\n",
       "      <th>Customer ID</th>\n",
       "      <th>Country</th>\n",
       "    </tr>\n",
       "  </thead>\n",
       "  <tbody>\n",
       "    <tr>\n",
       "      <th>0</th>\n",
       "      <td>536365</td>\n",
       "      <td>85123A</td>\n",
       "      <td>WHITE HANGING HEART T-LIGHT HOLDER</td>\n",
       "      <td>6</td>\n",
       "      <td>2010-12-01 08:26:00</td>\n",
       "      <td>2.55</td>\n",
       "      <td>17850.0</td>\n",
       "      <td>United Kingdom</td>\n",
       "    </tr>\n",
       "    <tr>\n",
       "      <th>1</th>\n",
       "      <td>536365</td>\n",
       "      <td>71053</td>\n",
       "      <td>WHITE METAL LANTERN</td>\n",
       "      <td>6</td>\n",
       "      <td>2010-12-01 08:26:00</td>\n",
       "      <td>3.39</td>\n",
       "      <td>17850.0</td>\n",
       "      <td>United Kingdom</td>\n",
       "    </tr>\n",
       "    <tr>\n",
       "      <th>2</th>\n",
       "      <td>536365</td>\n",
       "      <td>84406B</td>\n",
       "      <td>CREAM CUPID HEARTS COAT HANGER</td>\n",
       "      <td>8</td>\n",
       "      <td>2010-12-01 08:26:00</td>\n",
       "      <td>2.75</td>\n",
       "      <td>17850.0</td>\n",
       "      <td>United Kingdom</td>\n",
       "    </tr>\n",
       "    <tr>\n",
       "      <th>3</th>\n",
       "      <td>536365</td>\n",
       "      <td>84029G</td>\n",
       "      <td>KNITTED UNION FLAG HOT WATER BOTTLE</td>\n",
       "      <td>6</td>\n",
       "      <td>2010-12-01 08:26:00</td>\n",
       "      <td>3.39</td>\n",
       "      <td>17850.0</td>\n",
       "      <td>United Kingdom</td>\n",
       "    </tr>\n",
       "    <tr>\n",
       "      <th>4</th>\n",
       "      <td>536365</td>\n",
       "      <td>84029E</td>\n",
       "      <td>RED WOOLLY HOTTIE WHITE HEART.</td>\n",
       "      <td>6</td>\n",
       "      <td>2010-12-01 08:26:00</td>\n",
       "      <td>3.39</td>\n",
       "      <td>17850.0</td>\n",
       "      <td>United Kingdom</td>\n",
       "    </tr>\n",
       "  </tbody>\n",
       "</table>\n",
       "</div>"
      ],
      "text/plain": [
       "  Invoice StockCode                          Description  Quantity  \\\n",
       "0  536365    85123A   WHITE HANGING HEART T-LIGHT HOLDER         6   \n",
       "1  536365     71053                  WHITE METAL LANTERN         6   \n",
       "2  536365    84406B       CREAM CUPID HEARTS COAT HANGER         8   \n",
       "3  536365    84029G  KNITTED UNION FLAG HOT WATER BOTTLE         6   \n",
       "4  536365    84029E       RED WOOLLY HOTTIE WHITE HEART.         6   \n",
       "\n",
       "          InvoiceDate  Price  Customer ID         Country  \n",
       "0 2010-12-01 08:26:00   2.55      17850.0  United Kingdom  \n",
       "1 2010-12-01 08:26:00   3.39      17850.0  United Kingdom  \n",
       "2 2010-12-01 08:26:00   2.75      17850.0  United Kingdom  \n",
       "3 2010-12-01 08:26:00   3.39      17850.0  United Kingdom  \n",
       "4 2010-12-01 08:26:00   3.39      17850.0  United Kingdom  "
      ]
     },
     "execution_count": 24,
     "metadata": {},
     "output_type": "execute_result"
    }
   ],
   "source": [
    "df.head()"
   ]
  },
  {
   "cell_type": "code",
   "execution_count": 25,
   "id": "16b70933-4b0d-4679-986c-7b7d3ce5d658",
   "metadata": {},
   "outputs": [],
   "source": [
    "df['Month'] = df['InvoiceDate'].dt.month\n",
    "df['Year'] = df['InvoiceDate'].dt.year"
   ]
  },
  {
   "cell_type": "code",
   "execution_count": 26,
   "id": "5a665e66-8a58-450b-9b47-bb931a2cb46e",
   "metadata": {},
   "outputs": [
    {
     "data": {
      "text/html": [
       "<div>\n",
       "<style scoped>\n",
       "    .dataframe tbody tr th:only-of-type {\n",
       "        vertical-align: middle;\n",
       "    }\n",
       "\n",
       "    .dataframe tbody tr th {\n",
       "        vertical-align: top;\n",
       "    }\n",
       "\n",
       "    .dataframe thead th {\n",
       "        text-align: right;\n",
       "    }\n",
       "</style>\n",
       "<table border=\"1\" class=\"dataframe\">\n",
       "  <thead>\n",
       "    <tr style=\"text-align: right;\">\n",
       "      <th></th>\n",
       "      <th>Invoice</th>\n",
       "      <th>StockCode</th>\n",
       "      <th>Description</th>\n",
       "      <th>Quantity</th>\n",
       "      <th>InvoiceDate</th>\n",
       "      <th>Price</th>\n",
       "      <th>Customer ID</th>\n",
       "      <th>Country</th>\n",
       "      <th>Month</th>\n",
       "      <th>Year</th>\n",
       "    </tr>\n",
       "  </thead>\n",
       "  <tbody>\n",
       "    <tr>\n",
       "      <th>0</th>\n",
       "      <td>536365</td>\n",
       "      <td>85123A</td>\n",
       "      <td>WHITE HANGING HEART T-LIGHT HOLDER</td>\n",
       "      <td>6</td>\n",
       "      <td>2010-12-01 08:26:00</td>\n",
       "      <td>2.55</td>\n",
       "      <td>17850.0</td>\n",
       "      <td>United Kingdom</td>\n",
       "      <td>12</td>\n",
       "      <td>2010</td>\n",
       "    </tr>\n",
       "    <tr>\n",
       "      <th>1</th>\n",
       "      <td>536365</td>\n",
       "      <td>71053</td>\n",
       "      <td>WHITE METAL LANTERN</td>\n",
       "      <td>6</td>\n",
       "      <td>2010-12-01 08:26:00</td>\n",
       "      <td>3.39</td>\n",
       "      <td>17850.0</td>\n",
       "      <td>United Kingdom</td>\n",
       "      <td>12</td>\n",
       "      <td>2010</td>\n",
       "    </tr>\n",
       "    <tr>\n",
       "      <th>2</th>\n",
       "      <td>536365</td>\n",
       "      <td>84406B</td>\n",
       "      <td>CREAM CUPID HEARTS COAT HANGER</td>\n",
       "      <td>8</td>\n",
       "      <td>2010-12-01 08:26:00</td>\n",
       "      <td>2.75</td>\n",
       "      <td>17850.0</td>\n",
       "      <td>United Kingdom</td>\n",
       "      <td>12</td>\n",
       "      <td>2010</td>\n",
       "    </tr>\n",
       "    <tr>\n",
       "      <th>3</th>\n",
       "      <td>536365</td>\n",
       "      <td>84029G</td>\n",
       "      <td>KNITTED UNION FLAG HOT WATER BOTTLE</td>\n",
       "      <td>6</td>\n",
       "      <td>2010-12-01 08:26:00</td>\n",
       "      <td>3.39</td>\n",
       "      <td>17850.0</td>\n",
       "      <td>United Kingdom</td>\n",
       "      <td>12</td>\n",
       "      <td>2010</td>\n",
       "    </tr>\n",
       "    <tr>\n",
       "      <th>4</th>\n",
       "      <td>536365</td>\n",
       "      <td>84029E</td>\n",
       "      <td>RED WOOLLY HOTTIE WHITE HEART.</td>\n",
       "      <td>6</td>\n",
       "      <td>2010-12-01 08:26:00</td>\n",
       "      <td>3.39</td>\n",
       "      <td>17850.0</td>\n",
       "      <td>United Kingdom</td>\n",
       "      <td>12</td>\n",
       "      <td>2010</td>\n",
       "    </tr>\n",
       "  </tbody>\n",
       "</table>\n",
       "</div>"
      ],
      "text/plain": [
       "  Invoice StockCode                          Description  Quantity  \\\n",
       "0  536365    85123A   WHITE HANGING HEART T-LIGHT HOLDER         6   \n",
       "1  536365     71053                  WHITE METAL LANTERN         6   \n",
       "2  536365    84406B       CREAM CUPID HEARTS COAT HANGER         8   \n",
       "3  536365    84029G  KNITTED UNION FLAG HOT WATER BOTTLE         6   \n",
       "4  536365    84029E       RED WOOLLY HOTTIE WHITE HEART.         6   \n",
       "\n",
       "          InvoiceDate  Price  Customer ID         Country  Month  Year  \n",
       "0 2010-12-01 08:26:00   2.55      17850.0  United Kingdom     12  2010  \n",
       "1 2010-12-01 08:26:00   3.39      17850.0  United Kingdom     12  2010  \n",
       "2 2010-12-01 08:26:00   2.75      17850.0  United Kingdom     12  2010  \n",
       "3 2010-12-01 08:26:00   3.39      17850.0  United Kingdom     12  2010  \n",
       "4 2010-12-01 08:26:00   3.39      17850.0  United Kingdom     12  2010  "
      ]
     },
     "execution_count": 26,
     "metadata": {},
     "output_type": "execute_result"
    }
   ],
   "source": [
    "df.head()"
   ]
  },
  {
   "cell_type": "code",
   "execution_count": 27,
   "id": "b987fbed-3cb1-4249-b5cc-cb9c266177c4",
   "metadata": {},
   "outputs": [
    {
     "data": {
      "text/plain": [
       "Country\n",
       "United Kingdom          700388\n",
       "Germany                  16432\n",
       "EIRE                     15565\n",
       "France                   13511\n",
       "Netherlands               5085\n",
       "Spain                     3662\n",
       "Belgium                   3055\n",
       "Switzerland               3005\n",
       "Portugal                  2356\n",
       "Australia                 1789\n",
       "Channel Islands           1551\n",
       "Italy                     1442\n",
       "Sweden                    1317\n",
       "Norway                    1289\n",
       "Cyprus                    1136\n",
       "Finland                   1032\n",
       "Austria                    922\n",
       "Denmark                    778\n",
       "Greece                     657\n",
       "Unspecified                518\n",
       "Poland                     504\n",
       "Japan                      468\n",
       "USA                        409\n",
       "United Arab Emirates       383\n",
       "Singapore                  339\n",
       "Israel                     319\n",
       "Malta                      282\n",
       "Canada                     228\n",
       "Iceland                    222\n",
       "Lithuania                  154\n",
       "RSA                        122\n",
       "Brazil                      94\n",
       "Thailand                    76\n",
       "European Community          60\n",
       "Bahrain                     59\n",
       "West Indies                 54\n",
       "Korea                       53\n",
       "Lebanon                     45\n",
       "Nigeria                     30\n",
       "Czech Republic              25\n",
       "Saudi Arabia                 9\n",
       "Name: count, dtype: int64"
      ]
     },
     "execution_count": 27,
     "metadata": {},
     "output_type": "execute_result"
    }
   ],
   "source": [
    "df[\"Country\"].value_counts()"
   ]
  },
  {
   "cell_type": "code",
   "execution_count": 28,
   "id": "cb88198a-1a56-4851-99ea-3d622703537b",
   "metadata": {},
   "outputs": [
    {
     "data": {
      "text/plain": [
       "Invoice        0\n",
       "StockCode      0\n",
       "Description    0\n",
       "Quantity       0\n",
       "InvoiceDate    0\n",
       "Price          0\n",
       "Customer ID    0\n",
       "Country        0\n",
       "Month          0\n",
       "Year           0\n",
       "dtype: int64"
      ]
     },
     "execution_count": 28,
     "metadata": {},
     "output_type": "execute_result"
    }
   ],
   "source": [
    "df.isna().sum()"
   ]
  },
  {
   "cell_type": "code",
   "execution_count": 29,
   "id": "7d477120-5c35-4b2b-8343-779cf18b3aae",
   "metadata": {},
   "outputs": [
    {
     "data": {
      "text/html": [
       "<div>\n",
       "<style scoped>\n",
       "    .dataframe tbody tr th:only-of-type {\n",
       "        vertical-align: middle;\n",
       "    }\n",
       "\n",
       "    .dataframe tbody tr th {\n",
       "        vertical-align: top;\n",
       "    }\n",
       "\n",
       "    .dataframe thead th {\n",
       "        text-align: right;\n",
       "    }\n",
       "</style>\n",
       "<table border=\"1\" class=\"dataframe\">\n",
       "  <thead>\n",
       "    <tr style=\"text-align: right;\">\n",
       "      <th></th>\n",
       "      <th>Quantity</th>\n",
       "      <th>InvoiceDate</th>\n",
       "      <th>Price</th>\n",
       "      <th>Customer ID</th>\n",
       "      <th>Month</th>\n",
       "      <th>Year</th>\n",
       "    </tr>\n",
       "  </thead>\n",
       "  <tbody>\n",
       "    <tr>\n",
       "      <th>count</th>\n",
       "      <td>779425.000000</td>\n",
       "      <td>779425</td>\n",
       "      <td>779425.000000</td>\n",
       "      <td>779425.000000</td>\n",
       "      <td>779425.000000</td>\n",
       "      <td>779425.000000</td>\n",
       "    </tr>\n",
       "    <tr>\n",
       "      <th>mean</th>\n",
       "      <td>13.489370</td>\n",
       "      <td>2011-01-03 01:44:42.593476096</td>\n",
       "      <td>3.218488</td>\n",
       "      <td>15320.360461</td>\n",
       "      <td>7.417059</td>\n",
       "      <td>2010.432051</td>\n",
       "    </tr>\n",
       "    <tr>\n",
       "      <th>min</th>\n",
       "      <td>1.000000</td>\n",
       "      <td>2009-12-01 07:45:00</td>\n",
       "      <td>0.001000</td>\n",
       "      <td>12346.000000</td>\n",
       "      <td>1.000000</td>\n",
       "      <td>2009.000000</td>\n",
       "    </tr>\n",
       "    <tr>\n",
       "      <th>25%</th>\n",
       "      <td>2.000000</td>\n",
       "      <td>2010-07-02 14:39:00</td>\n",
       "      <td>1.250000</td>\n",
       "      <td>13971.000000</td>\n",
       "      <td>5.000000</td>\n",
       "      <td>2010.000000</td>\n",
       "    </tr>\n",
       "    <tr>\n",
       "      <th>50%</th>\n",
       "      <td>6.000000</td>\n",
       "      <td>2010-12-02 14:09:00</td>\n",
       "      <td>1.950000</td>\n",
       "      <td>15247.000000</td>\n",
       "      <td>8.000000</td>\n",
       "      <td>2010.000000</td>\n",
       "    </tr>\n",
       "    <tr>\n",
       "      <th>75%</th>\n",
       "      <td>12.000000</td>\n",
       "      <td>2011-08-01 13:44:00</td>\n",
       "      <td>3.750000</td>\n",
       "      <td>16794.000000</td>\n",
       "      <td>11.000000</td>\n",
       "      <td>2011.000000</td>\n",
       "    </tr>\n",
       "    <tr>\n",
       "      <th>max</th>\n",
       "      <td>80995.000000</td>\n",
       "      <td>2011-12-09 12:50:00</td>\n",
       "      <td>10953.500000</td>\n",
       "      <td>18287.000000</td>\n",
       "      <td>12.000000</td>\n",
       "      <td>2011.000000</td>\n",
       "    </tr>\n",
       "    <tr>\n",
       "      <th>std</th>\n",
       "      <td>145.855814</td>\n",
       "      <td>NaN</td>\n",
       "      <td>29.676140</td>\n",
       "      <td>1695.692775</td>\n",
       "      <td>3.422319</td>\n",
       "      <td>0.568385</td>\n",
       "    </tr>\n",
       "  </tbody>\n",
       "</table>\n",
       "</div>"
      ],
      "text/plain": [
       "            Quantity                    InvoiceDate          Price  \\\n",
       "count  779425.000000                         779425  779425.000000   \n",
       "mean       13.489370  2011-01-03 01:44:42.593476096       3.218488   \n",
       "min         1.000000            2009-12-01 07:45:00       0.001000   \n",
       "25%         2.000000            2010-07-02 14:39:00       1.250000   \n",
       "50%         6.000000            2010-12-02 14:09:00       1.950000   \n",
       "75%        12.000000            2011-08-01 13:44:00       3.750000   \n",
       "max     80995.000000            2011-12-09 12:50:00   10953.500000   \n",
       "std       145.855814                            NaN      29.676140   \n",
       "\n",
       "         Customer ID          Month           Year  \n",
       "count  779425.000000  779425.000000  779425.000000  \n",
       "mean    15320.360461       7.417059    2010.432051  \n",
       "min     12346.000000       1.000000    2009.000000  \n",
       "25%     13971.000000       5.000000    2010.000000  \n",
       "50%     15247.000000       8.000000    2010.000000  \n",
       "75%     16794.000000      11.000000    2011.000000  \n",
       "max     18287.000000      12.000000    2011.000000  \n",
       "std      1695.692775       3.422319       0.568385  "
      ]
     },
     "execution_count": 29,
     "metadata": {},
     "output_type": "execute_result"
    }
   ],
   "source": [
    "df.describe()"
   ]
  },
  {
   "cell_type": "code",
   "execution_count": 30,
   "id": "acbb59fd-f741-4033-9fdc-b07800ea39c3",
   "metadata": {},
   "outputs": [
    {
     "data": {
      "image/png": "[encoded data removed]",
      "text/plain": [
       "<Figure size 640x480 with 1 Axes>"
      ]
     },
     "metadata": {},
     "output_type": "display_data"
    }
   ],
   "source": [
    "sns.boxplot(x=df['Quantity'])\n",
    "plt.show()"
   ]
  },
  {
   "cell_type": "code",
   "execution_count": 31,
   "id": "c47b228d-a024-4113-972d-967c7ce4c19d",
   "metadata": {},
   "outputs": [
    {
     "data": {
      "text/html": [
       "<div>\n",
       "<style scoped>\n",
       "    .dataframe tbody tr th:only-of-type {\n",
       "        vertical-align: middle;\n",
       "    }\n",
       "\n",
       "    .dataframe tbody tr th {\n",
       "        vertical-align: top;\n",
       "    }\n",
       "\n",
       "    .dataframe thead th {\n",
       "        text-align: right;\n",
       "    }\n",
       "</style>\n",
       "<table border=\"1\" class=\"dataframe\">\n",
       "  <thead>\n",
       "    <tr style=\"text-align: right;\">\n",
       "      <th></th>\n",
       "      <th>count</th>\n",
       "      <th>mean</th>\n",
       "      <th>min</th>\n",
       "      <th>1%</th>\n",
       "      <th>25%</th>\n",
       "      <th>50%</th>\n",
       "      <th>75%</th>\n",
       "      <th>99%</th>\n",
       "      <th>max</th>\n",
       "      <th>std</th>\n",
       "    </tr>\n",
       "  </thead>\n",
       "  <tbody>\n",
       "    <tr>\n",
       "      <th>Quantity</th>\n",
       "      <td>779425.0</td>\n",
       "      <td>13.48937</td>\n",
       "      <td>1.0</td>\n",
       "      <td>1.0</td>\n",
       "      <td>2.0</td>\n",
       "      <td>6.0</td>\n",
       "      <td>12.0</td>\n",
       "      <td>144.0</td>\n",
       "      <td>80995.0</td>\n",
       "      <td>145.855814</td>\n",
       "    </tr>\n",
       "    <tr>\n",
       "      <th>InvoiceDate</th>\n",
       "      <td>779425</td>\n",
       "      <td>2011-01-03 01:44:42.593476096</td>\n",
       "      <td>2009-12-01 07:45:00</td>\n",
       "      <td>2009-12-04 13:41:00</td>\n",
       "      <td>2010-07-02 14:39:00</td>\n",
       "      <td>2010-12-02 14:09:00</td>\n",
       "      <td>2011-08-01 13:44:00</td>\n",
       "      <td>2011-12-05 17:36:00</td>\n",
       "      <td>2011-12-09 12:50:00</td>\n",
       "      <td>NaN</td>\n",
       "    </tr>\n",
       "    <tr>\n",
       "      <th>Price</th>\n",
       "      <td>779425.0</td>\n",
       "      <td>3.218488</td>\n",
       "      <td>0.001</td>\n",
       "      <td>0.29</td>\n",
       "      <td>1.25</td>\n",
       "      <td>1.95</td>\n",
       "      <td>3.75</td>\n",
       "      <td>14.95</td>\n",
       "      <td>10953.5</td>\n",
       "      <td>29.67614</td>\n",
       "    </tr>\n",
       "    <tr>\n",
       "      <th>Customer ID</th>\n",
       "      <td>779425.0</td>\n",
       "      <td>15320.360461</td>\n",
       "      <td>12346.0</td>\n",
       "      <td>12418.0</td>\n",
       "      <td>13971.0</td>\n",
       "      <td>15247.0</td>\n",
       "      <td>16794.0</td>\n",
       "      <td>18210.0</td>\n",
       "      <td>18287.0</td>\n",
       "      <td>1695.692775</td>\n",
       "    </tr>\n",
       "    <tr>\n",
       "      <th>Month</th>\n",
       "      <td>779425.0</td>\n",
       "      <td>7.417059</td>\n",
       "      <td>1.0</td>\n",
       "      <td>1.0</td>\n",
       "      <td>5.0</td>\n",
       "      <td>8.0</td>\n",
       "      <td>11.0</td>\n",
       "      <td>12.0</td>\n",
       "      <td>12.0</td>\n",
       "      <td>3.422319</td>\n",
       "    </tr>\n",
       "    <tr>\n",
       "      <th>Year</th>\n",
       "      <td>779425.0</td>\n",
       "      <td>2010.432051</td>\n",
       "      <td>2009.0</td>\n",
       "      <td>2009.0</td>\n",
       "      <td>2010.0</td>\n",
       "      <td>2010.0</td>\n",
       "      <td>2011.0</td>\n",
       "      <td>2011.0</td>\n",
       "      <td>2011.0</td>\n",
       "      <td>0.568385</td>\n",
       "    </tr>\n",
       "  </tbody>\n",
       "</table>\n",
       "</div>"
      ],
      "text/plain": [
       "                count                           mean                  min  \\\n",
       "Quantity     779425.0                       13.48937                  1.0   \n",
       "InvoiceDate    779425  2011-01-03 01:44:42.593476096  2009-12-01 07:45:00   \n",
       "Price        779425.0                       3.218488                0.001   \n",
       "Customer ID  779425.0                   15320.360461              12346.0   \n",
       "Month        779425.0                       7.417059                  1.0   \n",
       "Year         779425.0                    2010.432051               2009.0   \n",
       "\n",
       "                              1%                  25%                  50%  \\\n",
       "Quantity                     1.0                  2.0                  6.0   \n",
       "InvoiceDate  2009-12-04 13:41:00  2010-07-02 14:39:00  2010-12-02 14:09:00   \n",
       "Price                       0.29                 1.25                 1.95   \n",
       "Customer ID              12418.0              13971.0              15247.0   \n",
       "Month                        1.0                  5.0                  8.0   \n",
       "Year                      2009.0               2010.0               2010.0   \n",
       "\n",
       "                             75%                  99%                  max  \\\n",
       "Quantity                    12.0                144.0              80995.0   \n",
       "InvoiceDate  2011-08-01 13:44:00  2011-12-05 17:36:00  2011-12-09 12:50:00   \n",
       "Price                       3.75                14.95              10953.5   \n",
       "Customer ID              16794.0              18210.0              18287.0   \n",
       "Month                       11.0                 12.0                 12.0   \n",
       "Year                      2011.0               2011.0               2011.0   \n",
       "\n",
       "                     std  \n",
       "Quantity      145.855814  \n",
       "InvoiceDate          NaN  \n",
       "Price           29.67614  \n",
       "Customer ID  1695.692775  \n",
       "Month           3.422319  \n",
       "Year            0.568385  "
      ]
     },
     "execution_count": 31,
     "metadata": {},
     "output_type": "execute_result"
    }
   ],
   "source": [
    "df.describe([0.01,0.25,0.50,0.75,0.99]).T"
   ]
  },
  {
   "cell_type": "code",
   "execution_count": 32,
   "id": "a8a29a94-d34f-4c1b-a3fc-d39eca64d842",
   "metadata": {},
   "outputs": [
    {
     "data": {
      "image/png": "[encoded data removed]",
      "text/plain": [
       "<Figure size 640x480 with 1 Axes>"
      ]
     },
     "metadata": {},
     "output_type": "display_data"
    }
   ],
   "source": [
    "sns.boxplot(x=df['Price'])\n",
    "plt.show()"
   ]
  },
  {
   "cell_type": "code",
   "execution_count": 33,
   "id": "2cadc404-6dd7-4563-9580-0b74e17c6b63",
   "metadata": {},
   "outputs": [],
   "source": [
    "def outlier_thresholds(dataframe, variable):\n",
    "    quartile1 = dataframe[variable].quantile(0.01)\n",
    "    quartile3 = dataframe[variable].quantile(0.99)\n",
    "    interquantile_range = quartile3 - quartile1\n",
    "    up_limit = quartile3 + 1.5 * interquantile_range\n",
    "    low_limit = quartile1 - 1.5 * interquantile_range\n",
    "    return low_limit, up_limit\n",
    "\n",
    "def replace_with_thresholds(dataframe, variable):\n",
    "    low_limit, up_limit = outlier_thresholds(dataframe, variable)\n",
    "    # dataframe.loc[(dataframe[variable] < low_limit), variable] = low_limit\n",
    "    dataframe.loc[(dataframe[variable] > up_limit), variable] = up_limit"
   ]
  },
  {
   "cell_type": "code",
   "execution_count": 34,
   "id": "736ae776-cdf7-4b02-977d-f81988a48ac5",
   "metadata": {},
   "outputs": [
    {
     "name": "stderr",
     "output_type": "stream",
     "text": [
      "C:\\Users\\Lakshya Pawar\\AppData\\Local\\Temp\\ipykernel_20580\\2074518458.py:12: FutureWarning: Setting an item of incompatible dtype is deprecated and will raise an error in a future version of pandas. Value '358.5' has dtype incompatible with int64, please explicitly cast to a compatible dtype first.\n",
      "  dataframe.loc[(dataframe[variable] > up_limit), variable] = up_limit\n"
     ]
    }
   ],
   "source": [
    "replace_with_thresholds(df, \"Quantity\")\n",
    "replace_with_thresholds(df, \"Price\")"
   ]
  },
  {
   "cell_type": "code",
   "execution_count": 35,
   "id": "a5b1c726-a19e-428f-b49e-b89e0fde8ef3",
   "metadata": {},
   "outputs": [
    {
     "data": {
      "text/html": [
       "<div>\n",
       "<style scoped>\n",
       "    .dataframe tbody tr th:only-of-type {\n",
       "        vertical-align: middle;\n",
       "    }\n",
       "\n",
       "    .dataframe tbody tr th {\n",
       "        vertical-align: top;\n",
       "    }\n",
       "\n",
       "    .dataframe thead th {\n",
       "        text-align: right;\n",
       "    }\n",
       "</style>\n",
       "<table border=\"1\" class=\"dataframe\">\n",
       "  <thead>\n",
       "    <tr style=\"text-align: right;\">\n",
       "      <th></th>\n",
       "      <th>count</th>\n",
       "      <th>mean</th>\n",
       "      <th>min</th>\n",
       "      <th>1%</th>\n",
       "      <th>25%</th>\n",
       "      <th>50%</th>\n",
       "      <th>75%</th>\n",
       "      <th>99%</th>\n",
       "      <th>max</th>\n",
       "      <th>std</th>\n",
       "    </tr>\n",
       "  </thead>\n",
       "  <tbody>\n",
       "    <tr>\n",
       "      <th>Quantity</th>\n",
       "      <td>779425.0</td>\n",
       "      <td>12.102584</td>\n",
       "      <td>1.0</td>\n",
       "      <td>1.0</td>\n",
       "      <td>2.0</td>\n",
       "      <td>6.0</td>\n",
       "      <td>12.0</td>\n",
       "      <td>144.0</td>\n",
       "      <td>358.5</td>\n",
       "      <td>28.122967</td>\n",
       "    </tr>\n",
       "    <tr>\n",
       "      <th>InvoiceDate</th>\n",
       "      <td>779425</td>\n",
       "      <td>2011-01-03 01:44:42.593476096</td>\n",
       "      <td>2009-12-01 07:45:00</td>\n",
       "      <td>2009-12-04 13:41:00</td>\n",
       "      <td>2010-07-02 14:39:00</td>\n",
       "      <td>2010-12-02 14:09:00</td>\n",
       "      <td>2011-08-01 13:44:00</td>\n",
       "      <td>2011-12-05 17:36:00</td>\n",
       "      <td>2011-12-09 12:50:00</td>\n",
       "      <td>NaN</td>\n",
       "    </tr>\n",
       "    <tr>\n",
       "      <th>Price</th>\n",
       "      <td>779425.0</td>\n",
       "      <td>2.954463</td>\n",
       "      <td>0.001</td>\n",
       "      <td>0.29</td>\n",
       "      <td>1.25</td>\n",
       "      <td>1.95</td>\n",
       "      <td>3.75</td>\n",
       "      <td>14.95</td>\n",
       "      <td>36.94</td>\n",
       "      <td>3.250028</td>\n",
       "    </tr>\n",
       "    <tr>\n",
       "      <th>Customer ID</th>\n",
       "      <td>779425.0</td>\n",
       "      <td>15320.360461</td>\n",
       "      <td>12346.0</td>\n",
       "      <td>12418.0</td>\n",
       "      <td>13971.0</td>\n",
       "      <td>15247.0</td>\n",
       "      <td>16794.0</td>\n",
       "      <td>18210.0</td>\n",
       "      <td>18287.0</td>\n",
       "      <td>1695.692775</td>\n",
       "    </tr>\n",
       "    <tr>\n",
       "      <th>Month</th>\n",
       "      <td>779425.0</td>\n",
       "      <td>7.417059</td>\n",
       "      <td>1.0</td>\n",
       "      <td>1.0</td>\n",
       "      <td>5.0</td>\n",
       "      <td>8.0</td>\n",
       "      <td>11.0</td>\n",
       "      <td>12.0</td>\n",
       "      <td>12.0</td>\n",
       "      <td>3.422319</td>\n",
       "    </tr>\n",
       "    <tr>\n",
       "      <th>Year</th>\n",
       "      <td>779425.0</td>\n",
       "      <td>2010.432051</td>\n",
       "      <td>2009.0</td>\n",
       "      <td>2009.0</td>\n",
       "      <td>2010.0</td>\n",
       "      <td>2010.0</td>\n",
       "      <td>2011.0</td>\n",
       "      <td>2011.0</td>\n",
       "      <td>2011.0</td>\n",
       "      <td>0.568385</td>\n",
       "    </tr>\n",
       "  </tbody>\n",
       "</table>\n",
       "</div>"
      ],
      "text/plain": [
       "                count                           mean                  min  \\\n",
       "Quantity     779425.0                      12.102584                  1.0   \n",
       "InvoiceDate    779425  2011-01-03 01:44:42.593476096  2009-12-01 07:45:00   \n",
       "Price        779425.0                       2.954463                0.001   \n",
       "Customer ID  779425.0                   15320.360461              12346.0   \n",
       "Month        779425.0                       7.417059                  1.0   \n",
       "Year         779425.0                    2010.432051               2009.0   \n",
       "\n",
       "                              1%                  25%                  50%  \\\n",
       "Quantity                     1.0                  2.0                  6.0   \n",
       "InvoiceDate  2009-12-04 13:41:00  2010-07-02 14:39:00  2010-12-02 14:09:00   \n",
       "Price                       0.29                 1.25                 1.95   \n",
       "Customer ID              12418.0              13971.0              15247.0   \n",
       "Month                        1.0                  5.0                  8.0   \n",
       "Year                      2009.0               2010.0               2010.0   \n",
       "\n",
       "                             75%                  99%                  max  \\\n",
       "Quantity                    12.0                144.0                358.5   \n",
       "InvoiceDate  2011-08-01 13:44:00  2011-12-05 17:36:00  2011-12-09 12:50:00   \n",
       "Price                       3.75                14.95                36.94   \n",
       "Customer ID              16794.0              18210.0              18287.0   \n",
       "Month                       11.0                 12.0                 12.0   \n",
       "Year                      2011.0               2011.0               2011.0   \n",
       "\n",
       "                     std  \n",
       "Quantity       28.122967  \n",
       "InvoiceDate          NaN  \n",
       "Price           3.250028  \n",
       "Customer ID  1695.692775  \n",
       "Month           3.422319  \n",
       "Year            0.568385  "
      ]
     },
     "execution_count": 35,
     "metadata": {},
     "output_type": "execute_result"
    }
   ],
   "source": [
    "df.describe([0.01,0.25,0.50,0.75,0.99]).T"
   ]
  },
  {
   "cell_type": "code",
   "execution_count": 36,
   "id": "e2f74df4-9553-4df1-8d5f-94abde248b27",
   "metadata": {},
   "outputs": [
    {
     "data": {
      "image/png": "[encoded data removed]",
      "text/plain": [
       "<Figure size 640x480 with 1 Axes>"
      ]
     },
     "metadata": {},
     "output_type": "display_data"
    }
   ],
   "source": [
    "sns.boxplot(x=df['Price'])\n",
    "plt.show()"
   ]
  },
  {
   "cell_type": "code",
   "execution_count": 37,
   "id": "5da8c9d7-66b4-4f75-ab2c-0613a8ec70fe",
   "metadata": {},
   "outputs": [
    {
     "data": {
      "image/png": "[encoded data removed]",
      "text/plain": [
       "<Figure size 640x480 with 1 Axes>"
      ]
     },
     "metadata": {},
     "output_type": "display_data"
    }
   ],
   "source": [
    "sns.boxplot(x=df['Quantity'])\n",
    "plt.show()"
   ]
  },
  {
   "cell_type": "code",
   "execution_count": 38,
   "id": "99231f1e-2870-4fba-8059-14ea252ca4df",
   "metadata": {},
   "outputs": [],
   "source": [
    "df[\"TotalAmount\"] = df[\"Quantity\"]*df[\"Price\"]"
   ]
  },
  {
   "cell_type": "code",
   "execution_count": 39,
   "id": "07ef3c08-7bac-45c9-b0c6-b7c009d43e5b",
   "metadata": {},
   "outputs": [
    {
     "data": {
      "text/html": [
       "<div>\n",
       "<style scoped>\n",
       "    .dataframe tbody tr th:only-of-type {\n",
       "        vertical-align: middle;\n",
       "    }\n",
       "\n",
       "    .dataframe tbody tr th {\n",
       "        vertical-align: top;\n",
       "    }\n",
       "\n",
       "    .dataframe thead th {\n",
       "        text-align: right;\n",
       "    }\n",
       "</style>\n",
       "<table border=\"1\" class=\"dataframe\">\n",
       "  <thead>\n",
       "    <tr style=\"text-align: right;\">\n",
       "      <th></th>\n",
       "      <th>Invoice</th>\n",
       "      <th>StockCode</th>\n",
       "      <th>Description</th>\n",
       "      <th>Quantity</th>\n",
       "      <th>InvoiceDate</th>\n",
       "      <th>Price</th>\n",
       "      <th>Customer ID</th>\n",
       "      <th>Country</th>\n",
       "      <th>Month</th>\n",
       "      <th>Year</th>\n",
       "      <th>TotalAmount</th>\n",
       "    </tr>\n",
       "  </thead>\n",
       "  <tbody>\n",
       "    <tr>\n",
       "      <th>0</th>\n",
       "      <td>536365</td>\n",
       "      <td>85123A</td>\n",
       "      <td>WHITE HANGING HEART T-LIGHT HOLDER</td>\n",
       "      <td>6.0</td>\n",
       "      <td>2010-12-01 08:26:00</td>\n",
       "      <td>2.55</td>\n",
       "      <td>17850.0</td>\n",
       "      <td>United Kingdom</td>\n",
       "      <td>12</td>\n",
       "      <td>2010</td>\n",
       "      <td>15.30</td>\n",
       "    </tr>\n",
       "    <tr>\n",
       "      <th>1</th>\n",
       "      <td>536365</td>\n",
       "      <td>71053</td>\n",
       "      <td>WHITE METAL LANTERN</td>\n",
       "      <td>6.0</td>\n",
       "      <td>2010-12-01 08:26:00</td>\n",
       "      <td>3.39</td>\n",
       "      <td>17850.0</td>\n",
       "      <td>United Kingdom</td>\n",
       "      <td>12</td>\n",
       "      <td>2010</td>\n",
       "      <td>20.34</td>\n",
       "    </tr>\n",
       "    <tr>\n",
       "      <th>2</th>\n",
       "      <td>536365</td>\n",
       "      <td>84406B</td>\n",
       "      <td>CREAM CUPID HEARTS COAT HANGER</td>\n",
       "      <td>8.0</td>\n",
       "      <td>2010-12-01 08:26:00</td>\n",
       "      <td>2.75</td>\n",
       "      <td>17850.0</td>\n",
       "      <td>United Kingdom</td>\n",
       "      <td>12</td>\n",
       "      <td>2010</td>\n",
       "      <td>22.00</td>\n",
       "    </tr>\n",
       "    <tr>\n",
       "      <th>3</th>\n",
       "      <td>536365</td>\n",
       "      <td>84029G</td>\n",
       "      <td>KNITTED UNION FLAG HOT WATER BOTTLE</td>\n",
       "      <td>6.0</td>\n",
       "      <td>2010-12-01 08:26:00</td>\n",
       "      <td>3.39</td>\n",
       "      <td>17850.0</td>\n",
       "      <td>United Kingdom</td>\n",
       "      <td>12</td>\n",
       "      <td>2010</td>\n",
       "      <td>20.34</td>\n",
       "    </tr>\n",
       "    <tr>\n",
       "      <th>4</th>\n",
       "      <td>536365</td>\n",
       "      <td>84029E</td>\n",
       "      <td>RED WOOLLY HOTTIE WHITE HEART.</td>\n",
       "      <td>6.0</td>\n",
       "      <td>2010-12-01 08:26:00</td>\n",
       "      <td>3.39</td>\n",
       "      <td>17850.0</td>\n",
       "      <td>United Kingdom</td>\n",
       "      <td>12</td>\n",
       "      <td>2010</td>\n",
       "      <td>20.34</td>\n",
       "    </tr>\n",
       "  </tbody>\n",
       "</table>\n",
       "</div>"
      ],
      "text/plain": [
       "  Invoice StockCode                          Description  Quantity  \\\n",
       "0  536365    85123A   WHITE HANGING HEART T-LIGHT HOLDER       6.0   \n",
       "1  536365     71053                  WHITE METAL LANTERN       6.0   \n",
       "2  536365    84406B       CREAM CUPID HEARTS COAT HANGER       8.0   \n",
       "3  536365    84029G  KNITTED UNION FLAG HOT WATER BOTTLE       6.0   \n",
       "4  536365    84029E       RED WOOLLY HOTTIE WHITE HEART.       6.0   \n",
       "\n",
       "          InvoiceDate  Price  Customer ID         Country  Month  Year  \\\n",
       "0 2010-12-01 08:26:00   2.55      17850.0  United Kingdom     12  2010   \n",
       "1 2010-12-01 08:26:00   3.39      17850.0  United Kingdom     12  2010   \n",
       "2 2010-12-01 08:26:00   2.75      17850.0  United Kingdom     12  2010   \n",
       "3 2010-12-01 08:26:00   3.39      17850.0  United Kingdom     12  2010   \n",
       "4 2010-12-01 08:26:00   3.39      17850.0  United Kingdom     12  2010   \n",
       "\n",
       "   TotalAmount  \n",
       "0        15.30  \n",
       "1        20.34  \n",
       "2        22.00  \n",
       "3        20.34  \n",
       "4        20.34  "
      ]
     },
     "execution_count": 39,
     "metadata": {},
     "output_type": "execute_result"
    }
   ],
   "source": [
    "df.head()"
   ]
  },
  {
   "cell_type": "code",
   "execution_count": 40,
   "id": "fa22f7f3-df77-4c01-b421-2b172b3cde30",
   "metadata": {},
   "outputs": [
    {
     "name": "stdout",
     "output_type": "stream",
     "text": [
      "<class 'pandas.core.frame.DataFrame'>\n",
      "Index: 779425 entries, 0 to 502937\n",
      "Data columns (total 11 columns):\n",
      " #   Column       Non-Null Count   Dtype         \n",
      "---  ------       --------------   -----         \n",
      " 0   Invoice      779425 non-null  object        \n",
      " 1   StockCode    779425 non-null  object        \n",
      " 2   Description  779425 non-null  object        \n",
      " 3   Quantity     779425 non-null  float64       \n",
      " 4   InvoiceDate  779425 non-null  datetime64[ns]\n",
      " 5   Price        779425 non-null  float64       \n",
      " 6   Customer ID  779425 non-null  float64       \n",
      " 7   Country      779425 non-null  object        \n",
      " 8   Month        779425 non-null  int32         \n",
      " 9   Year         779425 non-null  int32         \n",
      " 10  TotalAmount  779425 non-null  float64       \n",
      "dtypes: datetime64[ns](1), float64(4), int32(2), object(4)\n",
      "memory usage: 65.4+ MB\n"
     ]
    }
   ],
   "source": [
    "df.info()"
   ]
  },
  {
   "cell_type": "code",
   "execution_count": 41,
   "id": "24d39605-bc73-445d-83b3-1b752d6a43d2",
   "metadata": {},
   "outputs": [
    {
     "data": {
      "text/plain": [
       "<Axes: >"
      ]
     },
     "execution_count": 41,
     "metadata": {},
     "output_type": "execute_result"
    },
    {
     "data": {
      "image/png": "[encoded data removed]",
      "text/plain": [
       "<Figure size 640x480 with 1 Axes>"
      ]
     },
     "metadata": {},
     "output_type": "display_data"
    }
   ],
   "source": [
    "sns.heatmap(df.isnull(), yticklabels=False, cbar=False)"
   ]
  },
  {
   "cell_type": "code",
   "execution_count": 42,
   "id": "1508597a-d9fe-45fc-9837-896d14d500b7",
   "metadata": {},
   "outputs": [],
   "source": [
    "def grab_col_names(dataframe, cat_th=10, car_th=20):\n",
    "\n",
    "    cat_cols = [col for col in dataframe.columns if dataframe[col].dtypes == \"O\"]\n",
    "    num_but_cat = [col for col in dataframe.columns if dataframe[col].nunique() < cat_th and dataframe[col].dtypes != \"O\"]\n",
    "    cat_but_car = [col for col in dataframe.columns if dataframe[col].nunique() > car_th and dataframe[col].dtypes == \"O\"]\n",
    "    cat_cols = cat_cols + num_but_cat\n",
    "    cat_cols = [col for col in cat_cols if col not in cat_but_car]\n",
    "    num_cols = [col for col in dataframe.columns if dataframe[col].dtypes != \"O\" and col not in num_but_cat]\n",
    "\n",
    "    print(f\"Observations: {dataframe.shape[0]}\")\n",
    "    print(f\"Variables: {dataframe.shape[1]}\")\n",
    "    print(f\"cat_cols: {len(cat_cols)}\")\n",
    "    print(f\"num_cols: {len(num_cols)}\")\n",
    "    print(f\"cat_but_car: {len(cat_but_car)}\")\n",
    "    print(f\"num_but_cat: {len(num_but_cat)}\")\n",
    "\n",
    "    return cat_cols, num_cols, cat_but_car"
   ]
  },
  {
   "cell_type": "code",
   "execution_count": 43,
   "id": "d12f0c85-6abb-4935-abe5-119772e31060",
   "metadata": {},
   "outputs": [
    {
     "name": "stdout",
     "output_type": "stream",
     "text": [
      "Observations: 779425\n",
      "Variables: 11\n",
      "cat_cols: 1\n",
      "num_cols: 6\n",
      "cat_but_car: 4\n",
      "num_but_cat: 1\n"
     ]
    },
    {
     "data": {
      "text/plain": [
       "(['Year'],\n",
       " ['Quantity', 'InvoiceDate', 'Price', 'Customer ID', 'Month', 'TotalAmount'],\n",
       " ['Invoice', 'StockCode', 'Description', 'Country'])"
      ]
     },
     "execution_count": 43,
     "metadata": {},
     "output_type": "execute_result"
    }
   ],
   "source": [
    "grab_col_names(df)"
   ]
  },
  {
   "cell_type": "code",
   "execution_count": 68,
   "id": "c740386d-120a-44eb-b417-f046b8aa61ce",
   "metadata": {},
   "outputs": [],
   "source": [
    "plot1 = pd.DataFrame(df.groupby(['Month'])['TotalAmount'].mean()).reset_index()\n",
    "plot2 = pd.DataFrame(df.groupby(['Year'])['TotalAmount'].sum()).reset_index()"
   ]
  },
  {
   "cell_type": "code",
   "execution_count": 66,
   "id": "1a1285c5-1e9d-4fd3-88d9-36365d87f2ae",
   "metadata": {},
   "outputs": [
    {
     "data": {
      "image/png": "[encoded data removed]",
      "text/plain": [
       "<Figure size 640x480 with 1 Axes>"
      ]
     },
     "metadata": {},
     "output_type": "display_data"
    }
   ],
   "source": [
    "ax = sns.barplot(x=\"Month\", y=\"TotalAmount\", data = plot1)"
   ]
  },
  {
   "cell_type": "code",
   "execution_count": 69,
   "id": "0dd33e4f-505f-4609-8ed3-0f253bfa5051",
   "metadata": {},
   "outputs": [
    {
     "data": {
      "image/png": "[encoded data removed]",
      "text/plain": [
       "<Figure size 640x480 with 1 Axes>"
      ]
     },
     "metadata": {},
     "output_type": "display_data"
    }
   ],
   "source": [
    "ax = sns.barplot(x=\"Year\", y=\"TotalAmount\", data = plot2)"
   ]
  },
  {
   "cell_type": "code",
   "execution_count": 44,
   "id": "ed399655-802a-43dc-868f-3eb068b04501",
   "metadata": {},
   "outputs": [
    {
     "name": "stdout",
     "output_type": "stream",
     "text": [
      "2009-12-01 07:45:00\n",
      "2011-12-09 12:50:00\n"
     ]
    }
   ],
   "source": [
    "print(df['InvoiceDate'].min())\n",
    "print(df['InvoiceDate'].max())"
   ]
  },
  {
   "cell_type": "code",
   "execution_count": 45,
   "id": "bc0be6a0-3f9b-4cd7-9ee3-454a5b8926d7",
   "metadata": {},
   "outputs": [],
   "source": [
    "import datetime as dt\n",
    "today = dt.datetime(2011,12,10)\n",
    "df['InvoiceDate'] = pd.to_datetime(df['InvoiceDate'])"
   ]
  },
  {
   "cell_type": "code",
   "execution_count": 102,
   "id": "c22d9443-38b7-465b-9b22-728afdb82a06",
   "metadata": {},
   "outputs": [],
   "source": [
    "rfm = df.groupby('Customer ID').agg({'InvoiceDate': lambda x: (today - x.max()).days, 'Invoice': lambda x: len(x), 'TotalAmount': lambda x: x.sum()})\n",
    "rfm['InvoiceDate'] = rfm['InvoiceDate'].astype(int)\n",
    "rfm.rename(columns={'InvoiceDate': 'recency', \n",
    "                         'Invoice': 'frequency', \n",
    "                         'TotalAmount': 'monetary_value'}, inplace=True)"
   ]
  },
  {
   "cell_type": "code",
   "execution_count": 103,
   "id": "06eaac52-01c5-4480-90a4-58c9d61b183b",
   "metadata": {},
   "outputs": [
    {
     "data": {
      "text/html": [
       "<div>\n",
       "<style scoped>\n",
       "    .dataframe tbody tr th:only-of-type {\n",
       "        vertical-align: middle;\n",
       "    }\n",
       "\n",
       "    .dataframe tbody tr th {\n",
       "        vertical-align: top;\n",
       "    }\n",
       "\n",
       "    .dataframe thead th {\n",
       "        text-align: right;\n",
       "    }\n",
       "</style>\n",
       "<table border=\"1\" class=\"dataframe\">\n",
       "  <thead>\n",
       "    <tr style=\"text-align: right;\">\n",
       "      <th></th>\n",
       "      <th>recency</th>\n",
       "      <th>frequency</th>\n",
       "      <th>monetary_value</th>\n",
       "    </tr>\n",
       "    <tr>\n",
       "      <th>Customer ID</th>\n",
       "      <th></th>\n",
       "      <th></th>\n",
       "      <th></th>\n",
       "    </tr>\n",
       "  </thead>\n",
       "  <tbody>\n",
       "    <tr>\n",
       "      <th>12346.0</th>\n",
       "      <td>325</td>\n",
       "      <td>34</td>\n",
       "      <td>745.70</td>\n",
       "    </tr>\n",
       "    <tr>\n",
       "      <th>12347.0</th>\n",
       "      <td>2</td>\n",
       "      <td>222</td>\n",
       "      <td>4921.53</td>\n",
       "    </tr>\n",
       "    <tr>\n",
       "      <th>12348.0</th>\n",
       "      <td>75</td>\n",
       "      <td>51</td>\n",
       "      <td>1991.86</td>\n",
       "    </tr>\n",
       "    <tr>\n",
       "      <th>12349.0</th>\n",
       "      <td>18</td>\n",
       "      <td>175</td>\n",
       "      <td>3786.50</td>\n",
       "    </tr>\n",
       "    <tr>\n",
       "      <th>12350.0</th>\n",
       "      <td>310</td>\n",
       "      <td>17</td>\n",
       "      <td>331.34</td>\n",
       "    </tr>\n",
       "  </tbody>\n",
       "</table>\n",
       "</div>"
      ],
      "text/plain": [
       "             recency  frequency  monetary_value\n",
       "Customer ID                                    \n",
       "12346.0          325         34          745.70\n",
       "12347.0            2        222         4921.53\n",
       "12348.0           75         51         1991.86\n",
       "12349.0           18        175         3786.50\n",
       "12350.0          310         17          331.34"
      ]
     },
     "execution_count": 103,
     "metadata": {},
     "output_type": "execute_result"
    }
   ],
   "source": [
    "rfm.head()"
   ]
  },
  {
   "cell_type": "code",
   "execution_count": 104,
   "id": "f93beea9-9f65-4800-a087-e233709db575",
   "metadata": {},
   "outputs": [
    {
     "data": {
      "text/plain": [
       "(5878, 3)"
      ]
     },
     "execution_count": 104,
     "metadata": {},
     "output_type": "execute_result"
    }
   ],
   "source": [
    "rfm.shape"
   ]
  },
  {
   "cell_type": "code",
   "execution_count": 107,
   "id": "3fff452a-f73e-4a27-b705-8a07a64db289",
   "metadata": {},
   "outputs": [],
   "source": [
    "rfm['average_order_value'] = rfm['monetary_value'] / rfm['frequency']"
   ]
  },
  {
   "cell_type": "code",
   "execution_count": 108,
   "id": "6de95fda-9ce7-4fd3-b0e4-cf09542fee59",
   "metadata": {},
   "outputs": [
    {
     "data": {
      "text/plain": [
       "Index(['recency', 'frequency', 'monetary_value', 'average_order_value'], dtype='object')"
      ]
     },
     "execution_count": 108,
     "metadata": {},
     "output_type": "execute_result"
    }
   ],
   "source": [
    "rfm.columns"
   ]
  },
  {
   "cell_type": "code",
   "execution_count": 109,
   "id": "0b5ffd85-8e9f-455b-b387-8cdee61f62b6",
   "metadata": {},
   "outputs": [
    {
     "name": "stdout",
     "output_type": "stream",
     "text": [
      "number of unique customers: 5878\n"
     ]
    }
   ],
   "source": [
    "print(\"number of unique customers:\", len(df['Customer ID'].unique().tolist()))"
   ]
  },
  {
   "cell_type": "code",
   "execution_count": 110,
   "id": "8800e0fe-f364-4228-beff-69b9f6d12803",
   "metadata": {},
   "outputs": [
    {
     "data": {
      "text/plain": [
       "115"
      ]
     },
     "execution_count": 110,
     "metadata": {},
     "output_type": "execute_result"
    }
   ],
   "source": [
    "len(rfm[rfm['frequency'] == 1])"
   ]
  },
  {
   "cell_type": "code",
   "execution_count": 111,
   "id": "5fded582-1272-4bce-890d-c66c5a469c7e",
   "metadata": {},
   "outputs": [],
   "source": [
    "rfm = rfm[(rfm['frequency'] > 1)]"
   ]
  },
  {
   "cell_type": "code",
   "execution_count": 112,
   "id": "1e24596b-deff-4ceb-846b-065fe55c7e6b",
   "metadata": {},
   "outputs": [
    {
     "data": {
      "text/plain": [
       "(5763, 4)"
      ]
     },
     "execution_count": 112,
     "metadata": {},
     "output_type": "execute_result"
    }
   ],
   "source": [
    "rfm.shape"
   ]
  },
  {
   "cell_type": "code",
   "execution_count": 114,
   "id": "e86fbb14-6a6f-4530-9e95-d58fef82d1ef",
   "metadata": {},
   "outputs": [
    {
     "data": {
      "text/html": [
       "<div>\n",
       "<style scoped>\n",
       "    .dataframe tbody tr th:only-of-type {\n",
       "        vertical-align: middle;\n",
       "    }\n",
       "\n",
       "    .dataframe tbody tr th {\n",
       "        vertical-align: top;\n",
       "    }\n",
       "\n",
       "    .dataframe thead th {\n",
       "        text-align: right;\n",
       "    }\n",
       "</style>\n",
       "<table border=\"1\" class=\"dataframe\">\n",
       "  <thead>\n",
       "    <tr style=\"text-align: right;\">\n",
       "      <th></th>\n",
       "      <th>recency</th>\n",
       "      <th>frequency</th>\n",
       "      <th>monetary_value</th>\n",
       "      <th>average_order_value</th>\n",
       "    </tr>\n",
       "    <tr>\n",
       "      <th>Customer ID</th>\n",
       "      <th></th>\n",
       "      <th></th>\n",
       "      <th></th>\n",
       "      <th></th>\n",
       "    </tr>\n",
       "  </thead>\n",
       "  <tbody>\n",
       "    <tr>\n",
       "      <th>12346.0</th>\n",
       "      <td>325</td>\n",
       "      <td>34</td>\n",
       "      <td>745.70</td>\n",
       "      <td>21.932353</td>\n",
       "    </tr>\n",
       "    <tr>\n",
       "      <th>12347.0</th>\n",
       "      <td>2</td>\n",
       "      <td>222</td>\n",
       "      <td>4921.53</td>\n",
       "      <td>22.169054</td>\n",
       "    </tr>\n",
       "    <tr>\n",
       "      <th>12348.0</th>\n",
       "      <td>75</td>\n",
       "      <td>51</td>\n",
       "      <td>1991.86</td>\n",
       "      <td>39.056078</td>\n",
       "    </tr>\n",
       "    <tr>\n",
       "      <th>12349.0</th>\n",
       "      <td>18</td>\n",
       "      <td>175</td>\n",
       "      <td>3786.50</td>\n",
       "      <td>21.637143</td>\n",
       "    </tr>\n",
       "    <tr>\n",
       "      <th>12350.0</th>\n",
       "      <td>310</td>\n",
       "      <td>17</td>\n",
       "      <td>331.34</td>\n",
       "      <td>19.490588</td>\n",
       "    </tr>\n",
       "  </tbody>\n",
       "</table>\n",
       "</div>"
      ],
      "text/plain": [
       "             recency  frequency  monetary_value  average_order_value\n",
       "Customer ID                                                         \n",
       "12346.0          325         34          745.70            21.932353\n",
       "12347.0            2        222         4921.53            22.169054\n",
       "12348.0           75         51         1991.86            39.056078\n",
       "12349.0           18        175         3786.50            21.637143\n",
       "12350.0          310         17          331.34            19.490588"
      ]
     },
     "execution_count": 114,
     "metadata": {},
     "output_type": "execute_result"
    }
   ],
   "source": [
    "rfm.head()"
   ]
  },
  {
   "cell_type": "code",
   "execution_count": 115,
   "id": "382d7030-34a0-404a-99c9-c5d9647d4179",
   "metadata": {},
   "outputs": [
    {
     "data": {
      "image/png": "[encoded data removed]",
      "text/plain": [
       "<Figure size 1600x400 with 4 Axes>"
      ]
     },
     "metadata": {},
     "output_type": "display_data"
    }
   ],
   "source": [
    "plt.figure(figsize=(16, 4))\n",
    "\n",
    "plt.subplot(141)  # Changed to 141\n",
    "sns.boxplot(x=rfm[\"frequency\"])\n",
    "plt.title(\"Frequency\")\n",
    "\n",
    "plt.subplot(142)  # Changed to 142\n",
    "sns.boxplot(x=rfm[\"recency\"])\n",
    "plt.title(\"Recency\")\n",
    "\n",
    "plt.subplot(143)  # Changed to 143\n",
    "sns.boxplot(x=rfm[\"monetary_value\"])\n",
    "plt.title(\"Monetary Value\")\n",
    "\n",
    "plt.subplot(144)  # Changed to 144\n",
    "sns.boxplot(x=rfm[\"average_order_value\"])\n",
    "plt.title(\"Average Order Value\")\n",
    "\n",
    "plt.tight_layout()\n",
    "plt.show()"
   ]
  },
  {
   "cell_type": "code",
   "execution_count": 116,
   "id": "0e337d7d-06db-4862-b439-6a211a51fea6",
   "metadata": {},
   "outputs": [
    {
     "data": {
      "text/html": [
       "<div>\n",
       "<style scoped>\n",
       "    .dataframe tbody tr th:only-of-type {\n",
       "        vertical-align: middle;\n",
       "    }\n",
       "\n",
       "    .dataframe tbody tr th {\n",
       "        vertical-align: top;\n",
       "    }\n",
       "\n",
       "    .dataframe thead th {\n",
       "        text-align: right;\n",
       "    }\n",
       "</style>\n",
       "<table border=\"1\" class=\"dataframe\">\n",
       "  <thead>\n",
       "    <tr style=\"text-align: right;\">\n",
       "      <th></th>\n",
       "      <th>recency</th>\n",
       "      <th>frequency</th>\n",
       "      <th>monetary_value</th>\n",
       "      <th>average_order_value</th>\n",
       "    </tr>\n",
       "  </thead>\n",
       "  <tbody>\n",
       "    <tr>\n",
       "      <th>count</th>\n",
       "      <td>5763.000000</td>\n",
       "      <td>5763.000000</td>\n",
       "      <td>5763.000000</td>\n",
       "      <td>5763.000000</td>\n",
       "    </tr>\n",
       "    <tr>\n",
       "      <th>mean</th>\n",
       "      <td>196.771473</td>\n",
       "      <td>135.226445</td>\n",
       "      <td>2832.903407</td>\n",
       "      <td>25.912281</td>\n",
       "    </tr>\n",
       "    <tr>\n",
       "      <th>std</th>\n",
       "      <td>207.382088</td>\n",
       "      <td>345.077548</td>\n",
       "      <td>13428.498008</td>\n",
       "      <td>48.237066</td>\n",
       "    </tr>\n",
       "    <tr>\n",
       "      <th>min</th>\n",
       "      <td>0.000000</td>\n",
       "      <td>2.000000</td>\n",
       "      <td>6.200000</td>\n",
       "      <td>2.135778</td>\n",
       "    </tr>\n",
       "    <tr>\n",
       "      <th>25%</th>\n",
       "      <td>25.000000</td>\n",
       "      <td>22.000000</td>\n",
       "      <td>353.495000</td>\n",
       "      <td>11.353223</td>\n",
       "    </tr>\n",
       "    <tr>\n",
       "      <th>50%</th>\n",
       "      <td>91.000000</td>\n",
       "      <td>54.000000</td>\n",
       "      <td>884.180000</td>\n",
       "      <td>17.200192</td>\n",
       "    </tr>\n",
       "    <tr>\n",
       "      <th>75%</th>\n",
       "      <td>376.000000</td>\n",
       "      <td>140.500000</td>\n",
       "      <td>2266.445000</td>\n",
       "      <td>23.276513</td>\n",
       "    </tr>\n",
       "    <tr>\n",
       "      <th>max</th>\n",
       "      <td>738.000000</td>\n",
       "      <td>12435.000000</td>\n",
       "      <td>534839.920000</td>\n",
       "      <td>1166.957500</td>\n",
       "    </tr>\n",
       "  </tbody>\n",
       "</table>\n",
       "</div>"
      ],
      "text/plain": [
       "           recency     frequency  monetary_value  average_order_value\n",
       "count  5763.000000   5763.000000     5763.000000          5763.000000\n",
       "mean    196.771473    135.226445     2832.903407            25.912281\n",
       "std     207.382088    345.077548    13428.498008            48.237066\n",
       "min       0.000000      2.000000        6.200000             2.135778\n",
       "25%      25.000000     22.000000      353.495000            11.353223\n",
       "50%      91.000000     54.000000      884.180000            17.200192\n",
       "75%     376.000000    140.500000     2266.445000            23.276513\n",
       "max     738.000000  12435.000000   534839.920000          1166.957500"
      ]
     },
     "execution_count": 116,
     "metadata": {},
     "output_type": "execute_result"
    }
   ],
   "source": [
    "rfm.describe()"
   ]
  },
  {
   "cell_type": "code",
   "execution_count": 117,
   "id": "48647347-888b-4685-b648-c612e1445fbf",
   "metadata": {},
   "outputs": [
    {
     "data": {
      "text/html": [
       "<div>\n",
       "<style scoped>\n",
       "    .dataframe tbody tr th:only-of-type {\n",
       "        vertical-align: middle;\n",
       "    }\n",
       "\n",
       "    .dataframe tbody tr th {\n",
       "        vertical-align: top;\n",
       "    }\n",
       "\n",
       "    .dataframe thead th {\n",
       "        text-align: right;\n",
       "    }\n",
       "</style>\n",
       "<table border=\"1\" class=\"dataframe\">\n",
       "  <thead>\n",
       "    <tr style=\"text-align: right;\">\n",
       "      <th></th>\n",
       "      <th>recency</th>\n",
       "      <th>frequency</th>\n",
       "      <th>monetary_value</th>\n",
       "      <th>average_order_value</th>\n",
       "    </tr>\n",
       "  </thead>\n",
       "  <tbody>\n",
       "    <tr>\n",
       "      <th>count</th>\n",
       "      <td>5763.000000</td>\n",
       "      <td>5763.000000</td>\n",
       "      <td>5763.000000</td>\n",
       "      <td>5763.000000</td>\n",
       "    </tr>\n",
       "    <tr>\n",
       "      <th>mean</th>\n",
       "      <td>196.771473</td>\n",
       "      <td>135.226445</td>\n",
       "      <td>2832.903407</td>\n",
       "      <td>25.912281</td>\n",
       "    </tr>\n",
       "    <tr>\n",
       "      <th>std</th>\n",
       "      <td>207.382088</td>\n",
       "      <td>345.077548</td>\n",
       "      <td>13428.498008</td>\n",
       "      <td>48.237066</td>\n",
       "    </tr>\n",
       "    <tr>\n",
       "      <th>min</th>\n",
       "      <td>0.000000</td>\n",
       "      <td>2.000000</td>\n",
       "      <td>6.200000</td>\n",
       "      <td>2.135778</td>\n",
       "    </tr>\n",
       "    <tr>\n",
       "      <th>1%</th>\n",
       "      <td>1.000000</td>\n",
       "      <td>2.000000</td>\n",
       "      <td>62.677200</td>\n",
       "      <td>3.386778</td>\n",
       "    </tr>\n",
       "    <tr>\n",
       "      <th>10%</th>\n",
       "      <td>8.000000</td>\n",
       "      <td>10.000000</td>\n",
       "      <td>170.400000</td>\n",
       "      <td>6.062780</td>\n",
       "    </tr>\n",
       "    <tr>\n",
       "      <th>25%</th>\n",
       "      <td>25.000000</td>\n",
       "      <td>22.000000</td>\n",
       "      <td>353.495000</td>\n",
       "      <td>11.353223</td>\n",
       "    </tr>\n",
       "    <tr>\n",
       "      <th>50%</th>\n",
       "      <td>91.000000</td>\n",
       "      <td>54.000000</td>\n",
       "      <td>884.180000</td>\n",
       "      <td>17.200192</td>\n",
       "    </tr>\n",
       "    <tr>\n",
       "      <th>75%</th>\n",
       "      <td>376.000000</td>\n",
       "      <td>140.500000</td>\n",
       "      <td>2266.445000</td>\n",
       "      <td>23.276513</td>\n",
       "    </tr>\n",
       "    <tr>\n",
       "      <th>90%</th>\n",
       "      <td>527.800000</td>\n",
       "      <td>313.000000</td>\n",
       "      <td>5380.012200</td>\n",
       "      <td>40.535804</td>\n",
       "    </tr>\n",
       "    <tr>\n",
       "      <th>99%</th>\n",
       "      <td>725.000000</td>\n",
       "      <td>1072.380000</td>\n",
       "      <td>25970.041200</td>\n",
       "      <td>234.364297</td>\n",
       "    </tr>\n",
       "    <tr>\n",
       "      <th>max</th>\n",
       "      <td>738.000000</td>\n",
       "      <td>12435.000000</td>\n",
       "      <td>534839.920000</td>\n",
       "      <td>1166.957500</td>\n",
       "    </tr>\n",
       "  </tbody>\n",
       "</table>\n",
       "</div>"
      ],
      "text/plain": [
       "           recency     frequency  monetary_value  average_order_value\n",
       "count  5763.000000   5763.000000     5763.000000          5763.000000\n",
       "mean    196.771473    135.226445     2832.903407            25.912281\n",
       "std     207.382088    345.077548    13428.498008            48.237066\n",
       "min       0.000000      2.000000        6.200000             2.135778\n",
       "1%        1.000000      2.000000       62.677200             3.386778\n",
       "10%       8.000000     10.000000      170.400000             6.062780\n",
       "25%      25.000000     22.000000      353.495000            11.353223\n",
       "50%      91.000000     54.000000      884.180000            17.200192\n",
       "75%     376.000000    140.500000     2266.445000            23.276513\n",
       "90%     527.800000    313.000000     5380.012200            40.535804\n",
       "99%     725.000000   1072.380000    25970.041200           234.364297\n",
       "max     738.000000  12435.000000   534839.920000          1166.957500"
      ]
     },
     "execution_count": 117,
     "metadata": {},
     "output_type": "execute_result"
    }
   ],
   "source": [
    "rfm.describe(percentiles = [0.01,0.1,0.25,0.50,0.75,0.90,0.99])"
   ]
  },
  {
   "cell_type": "code",
   "execution_count": 118,
   "id": "898c81fc-cc19-4e4b-a36a-a16be5ee2d86",
   "metadata": {},
   "outputs": [],
   "source": [
    "rfm_main = rfm.copy()"
   ]
  },
  {
   "cell_type": "code",
   "execution_count": 119,
   "id": "3a35f51f-c9f6-47a0-b649-3700cb79dba5",
   "metadata": {},
   "outputs": [
    {
     "data": {
      "text/html": [
       "<div>\n",
       "<style scoped>\n",
       "    .dataframe tbody tr th:only-of-type {\n",
       "        vertical-align: middle;\n",
       "    }\n",
       "\n",
       "    .dataframe tbody tr th {\n",
       "        vertical-align: top;\n",
       "    }\n",
       "\n",
       "    .dataframe thead th {\n",
       "        text-align: right;\n",
       "    }\n",
       "</style>\n",
       "<table border=\"1\" class=\"dataframe\">\n",
       "  <thead>\n",
       "    <tr style=\"text-align: right;\">\n",
       "      <th></th>\n",
       "      <th>recency</th>\n",
       "      <th>frequency</th>\n",
       "      <th>monetary_value</th>\n",
       "      <th>average_order_value</th>\n",
       "    </tr>\n",
       "    <tr>\n",
       "      <th>Customer ID</th>\n",
       "      <th></th>\n",
       "      <th></th>\n",
       "      <th></th>\n",
       "      <th></th>\n",
       "    </tr>\n",
       "  </thead>\n",
       "  <tbody>\n",
       "    <tr>\n",
       "      <th>12346.0</th>\n",
       "      <td>325</td>\n",
       "      <td>34</td>\n",
       "      <td>745.70</td>\n",
       "      <td>21.932353</td>\n",
       "    </tr>\n",
       "    <tr>\n",
       "      <th>12347.0</th>\n",
       "      <td>2</td>\n",
       "      <td>222</td>\n",
       "      <td>4921.53</td>\n",
       "      <td>22.169054</td>\n",
       "    </tr>\n",
       "    <tr>\n",
       "      <th>12348.0</th>\n",
       "      <td>75</td>\n",
       "      <td>51</td>\n",
       "      <td>1991.86</td>\n",
       "      <td>39.056078</td>\n",
       "    </tr>\n",
       "    <tr>\n",
       "      <th>12349.0</th>\n",
       "      <td>18</td>\n",
       "      <td>175</td>\n",
       "      <td>3786.50</td>\n",
       "      <td>21.637143</td>\n",
       "    </tr>\n",
       "    <tr>\n",
       "      <th>12350.0</th>\n",
       "      <td>310</td>\n",
       "      <td>17</td>\n",
       "      <td>331.34</td>\n",
       "      <td>19.490588</td>\n",
       "    </tr>\n",
       "  </tbody>\n",
       "</table>\n",
       "</div>"
      ],
      "text/plain": [
       "             recency  frequency  monetary_value  average_order_value\n",
       "Customer ID                                                         \n",
       "12346.0          325         34          745.70            21.932353\n",
       "12347.0            2        222         4921.53            22.169054\n",
       "12348.0           75         51         1991.86            39.056078\n",
       "12349.0           18        175         3786.50            21.637143\n",
       "12350.0          310         17          331.34            19.490588"
      ]
     },
     "execution_count": 119,
     "metadata": {},
     "output_type": "execute_result"
    }
   ],
   "source": [
    "rfm_main.head()"
   ]
  },
  {
   "cell_type": "code",
   "execution_count": 126,
   "id": "78096119-fade-477d-88ef-826c8be6f809",
   "metadata": {},
   "outputs": [],
   "source": [
    "from sklearn.preprocessing import StandardScaler\n",
    "\n",
    "rfm_data = rfm[['recency', 'frequency', 'monetary_value', 'average_order_value']]\n",
    "scaler = StandardScaler()\n",
    "rfm_scaled = scaler.fit_transform(rfm_data)"
   ]
  },
  {
   "cell_type": "code",
   "execution_count": 134,
   "id": "2d2438e7-e04f-4396-9ca1-456e0d6eac1b",
   "metadata": {},
   "outputs": [
    {
     "data": {
      "text/plain": [
       "array([[ 0.61837382, -0.2933695 , -0.15544438, -0.08251484],\n",
       "       [-0.93927289,  0.25148285,  0.15555037, -0.07760737],\n",
       "       [-0.58723509, -0.24410094, -0.06263667,  0.27250699],\n",
       "       ...,\n",
       "       [ 2.23388976, -0.35712882, -0.18015219,  0.17794331],\n",
       "       [ 1.3465616 , -0.19773052, -0.11540143, -0.14010163],\n",
       "       [-0.74637547,  0.05730675,  0.09957499,  0.02053564]])"
      ]
     },
     "execution_count": 134,
     "metadata": {},
     "output_type": "execute_result"
    }
   ],
   "source": [
    "rfm_scaled"
   ]
  },
  {
   "cell_type": "code",
   "execution_count": 135,
   "id": "70b4364f-58ad-4e3a-a465-fa8b753fcf39",
   "metadata": {},
   "outputs": [],
   "source": [
    "rfm_cluster = rfm.copy()"
   ]
  },
  {
   "cell_type": "code",
   "execution_count": 136,
   "id": "e044de0c-996c-49bf-8e9e-99c1e11a379d",
   "metadata": {},
   "outputs": [],
   "source": [
    "from sklearn.cluster import KMeans\n",
    "\n",
    "kmeans = KMeans(n_clusters=4, random_state=42)\n",
    "rfm_cluster['cluster'] = kmeans.fit_predict(rfm_scaled)"
   ]
  },
  {
   "cell_type": "code",
   "execution_count": 138,
   "id": "484096db-1e57-47a0-a885-ecdeb355b199",
   "metadata": {},
   "outputs": [
    {
     "data": {
      "text/plain": [
       "Customer ID\n",
       "12346.0    2\n",
       "12347.0    0\n",
       "12348.0    0\n",
       "12349.0    0\n",
       "12350.0    2\n",
       "          ..\n",
       "18283.0    0\n",
       "18284.0    2\n",
       "18285.0    2\n",
       "18286.0    2\n",
       "18287.0    0\n",
       "Name: cluster, Length: 5763, dtype: int32"
      ]
     },
     "execution_count": 138,
     "metadata": {},
     "output_type": "execute_result"
    }
   ],
   "source": [
    "rfm_cluster['cluster']"
   ]
  },
  {
   "cell_type": "code",
   "execution_count": 141,
   "id": "aa073616-1aa8-4f03-a03e-56599a8bfbf0",
   "metadata": {},
   "outputs": [
    {
     "data": {
      "text/html": [
       "<div>\n",
       "<style scoped>\n",
       "    .dataframe tbody tr th:only-of-type {\n",
       "        vertical-align: middle;\n",
       "    }\n",
       "\n",
       "    .dataframe tbody tr th {\n",
       "        vertical-align: top;\n",
       "    }\n",
       "\n",
       "    .dataframe thead th {\n",
       "        text-align: right;\n",
       "    }\n",
       "</style>\n",
       "<table border=\"1\" class=\"dataframe\">\n",
       "  <thead>\n",
       "    <tr style=\"text-align: right;\">\n",
       "      <th></th>\n",
       "      <th>recency</th>\n",
       "      <th>frequency</th>\n",
       "      <th>monetary_value</th>\n",
       "      <th>average_order_value</th>\n",
       "      <th>cluster</th>\n",
       "    </tr>\n",
       "    <tr>\n",
       "      <th>Customer ID</th>\n",
       "      <th></th>\n",
       "      <th></th>\n",
       "      <th></th>\n",
       "      <th></th>\n",
       "      <th></th>\n",
       "    </tr>\n",
       "  </thead>\n",
       "  <tbody>\n",
       "    <tr>\n",
       "      <th>12346.0</th>\n",
       "      <td>325</td>\n",
       "      <td>34</td>\n",
       "      <td>745.70</td>\n",
       "      <td>21.932353</td>\n",
       "      <td>2</td>\n",
       "    </tr>\n",
       "    <tr>\n",
       "      <th>12347.0</th>\n",
       "      <td>2</td>\n",
       "      <td>222</td>\n",
       "      <td>4921.53</td>\n",
       "      <td>22.169054</td>\n",
       "      <td>0</td>\n",
       "    </tr>\n",
       "    <tr>\n",
       "      <th>12348.0</th>\n",
       "      <td>75</td>\n",
       "      <td>51</td>\n",
       "      <td>1991.86</td>\n",
       "      <td>39.056078</td>\n",
       "      <td>0</td>\n",
       "    </tr>\n",
       "    <tr>\n",
       "      <th>12349.0</th>\n",
       "      <td>18</td>\n",
       "      <td>175</td>\n",
       "      <td>3786.50</td>\n",
       "      <td>21.637143</td>\n",
       "      <td>0</td>\n",
       "    </tr>\n",
       "    <tr>\n",
       "      <th>12350.0</th>\n",
       "      <td>310</td>\n",
       "      <td>17</td>\n",
       "      <td>331.34</td>\n",
       "      <td>19.490588</td>\n",
       "      <td>2</td>\n",
       "    </tr>\n",
       "  </tbody>\n",
       "</table>\n",
       "</div>"
      ],
      "text/plain": [
       "             recency  frequency  monetary_value  average_order_value  cluster\n",
       "Customer ID                                                                  \n",
       "12346.0          325         34          745.70            21.932353        2\n",
       "12347.0            2        222         4921.53            22.169054        0\n",
       "12348.0           75         51         1991.86            39.056078        0\n",
       "12349.0           18        175         3786.50            21.637143        0\n",
       "12350.0          310         17          331.34            19.490588        2"
      ]
     },
     "execution_count": 141,
     "metadata": {},
     "output_type": "execute_result"
    }
   ],
   "source": [
    "rfm_cluster.head()"
   ]
  },
  {
   "cell_type": "code",
   "execution_count": 72,
   "id": "09391bd0-9658-4ff8-a753-e70b6859abaa",
   "metadata": {},
   "outputs": [],
   "source": [
    "from sklearn.model_selection import train_test_split\n",
    "from sklearn.linear_model import LinearRegression\n",
    "from sklearn.ensemble import RandomForestRegressor\n",
    "from sklearn.metrics import mean_squared_error"
   ]
  },
  {
   "cell_type": "code",
   "execution_count": 255,
   "id": "bbe192aa-d8be-4c78-8ece-7e563824d806",
   "metadata": {},
   "outputs": [],
   "source": [
    "X = rfm_cluster[['recency', 'frequency', 'monetary_value', 'average_order_value', 'cluster']]\n",
    "y = rfm_cluster['monetary_value']"
   ]
  },
  {
   "cell_type": "code",
   "execution_count": 256,
   "id": "158a1314-04b2-4d38-b389-dd520bf92c62",
   "metadata": {},
   "outputs": [
    {
     "data": {
      "text/html": [
       "<div>\n",
       "<style scoped>\n",
       "    .dataframe tbody tr th:only-of-type {\n",
       "        vertical-align: middle;\n",
       "    }\n",
       "\n",
       "    .dataframe tbody tr th {\n",
       "        vertical-align: top;\n",
       "    }\n",
       "\n",
       "    .dataframe thead th {\n",
       "        text-align: right;\n",
       "    }\n",
       "</style>\n",
       "<table border=\"1\" class=\"dataframe\">\n",
       "  <thead>\n",
       "    <tr style=\"text-align: right;\">\n",
       "      <th></th>\n",
       "      <th>recency</th>\n",
       "      <th>frequency</th>\n",
       "      <th>monetary_value</th>\n",
       "      <th>average_order_value</th>\n",
       "      <th>cluster</th>\n",
       "    </tr>\n",
       "    <tr>\n",
       "      <th>Customer ID</th>\n",
       "      <th></th>\n",
       "      <th></th>\n",
       "      <th></th>\n",
       "      <th></th>\n",
       "      <th></th>\n",
       "    </tr>\n",
       "  </thead>\n",
       "  <tbody>\n",
       "    <tr>\n",
       "      <th>12346.0</th>\n",
       "      <td>325</td>\n",
       "      <td>34</td>\n",
       "      <td>745.70</td>\n",
       "      <td>21.932353</td>\n",
       "      <td>2</td>\n",
       "    </tr>\n",
       "    <tr>\n",
       "      <th>12347.0</th>\n",
       "      <td>2</td>\n",
       "      <td>222</td>\n",
       "      <td>4921.53</td>\n",
       "      <td>22.169054</td>\n",
       "      <td>0</td>\n",
       "    </tr>\n",
       "    <tr>\n",
       "      <th>12348.0</th>\n",
       "      <td>75</td>\n",
       "      <td>51</td>\n",
       "      <td>1991.86</td>\n",
       "      <td>39.056078</td>\n",
       "      <td>0</td>\n",
       "    </tr>\n",
       "    <tr>\n",
       "      <th>12349.0</th>\n",
       "      <td>18</td>\n",
       "      <td>175</td>\n",
       "      <td>3786.50</td>\n",
       "      <td>21.637143</td>\n",
       "      <td>0</td>\n",
       "    </tr>\n",
       "    <tr>\n",
       "      <th>12350.0</th>\n",
       "      <td>310</td>\n",
       "      <td>17</td>\n",
       "      <td>331.34</td>\n",
       "      <td>19.490588</td>\n",
       "      <td>2</td>\n",
       "    </tr>\n",
       "  </tbody>\n",
       "</table>\n",
       "</div>"
      ],
      "text/plain": [
       "             recency  frequency  monetary_value  average_order_value  cluster\n",
       "Customer ID                                                                  \n",
       "12346.0          325         34          745.70            21.932353        2\n",
       "12347.0            2        222         4921.53            22.169054        0\n",
       "12348.0           75         51         1991.86            39.056078        0\n",
       "12349.0           18        175         3786.50            21.637143        0\n",
       "12350.0          310         17          331.34            19.490588        2"
      ]
     },
     "execution_count": 256,
     "metadata": {},
     "output_type": "execute_result"
    }
   ],
   "source": [
    "X.head()"
   ]
  },
  {
   "cell_type": "code",
   "execution_count": 257,
   "id": "8d48a9fa-3560-48fd-a6dd-6f8b1c52d662",
   "metadata": {},
   "outputs": [],
   "source": [
    "X_train, X_test, y_train, y_test = train_test_split(X, y, test_size=0.2, random_state=42)"
   ]
  },
  {
   "cell_type": "code",
   "execution_count": 258,
   "id": "538c83cf-54db-40d0-be06-58e21f4b2333",
   "metadata": {},
   "outputs": [
    {
     "data": {
      "text/plain": [
       "(4610, 5)"
      ]
     },
     "execution_count": 258,
     "metadata": {},
     "output_type": "execute_result"
    }
   ],
   "source": [
    "X_train.shape"
   ]
  },
  {
   "cell_type": "code",
   "execution_count": 259,
   "id": "10461d67-cc4a-4ac5-9d7b-8a2b984529f8",
   "metadata": {},
   "outputs": [
    {
     "data": {
      "text/plain": [
       "(4610,)"
      ]
     },
     "execution_count": 259,
     "metadata": {},
     "output_type": "execute_result"
    }
   ],
   "source": [
    "y_train.shape"
   ]
  },
  {
   "cell_type": "code",
   "execution_count": 260,
   "id": "7f393dfb-c55f-4d41-a66f-49e2c1a364fc",
   "metadata": {},
   "outputs": [
    {
     "data": {
      "text/plain": [
       "(1153, 5)"
      ]
     },
     "execution_count": 260,
     "metadata": {},
     "output_type": "execute_result"
    }
   ],
   "source": [
    "X_test.shape"
   ]
  },
  {
   "cell_type": "code",
   "execution_count": 261,
   "id": "7661ea34-efce-44bf-a6b3-bce9cc983616",
   "metadata": {},
   "outputs": [
    {
     "data": {
      "text/plain": [
       "(1153,)"
      ]
     },
     "execution_count": 261,
     "metadata": {},
     "output_type": "execute_result"
    }
   ],
   "source": [
    "y_test.shape"
   ]
  },
  {
   "cell_type": "code",
   "execution_count": 262,
   "id": "44569181-7397-4730-b3dd-7c1e53280924",
   "metadata": {},
   "outputs": [
    {
     "name": "stdout",
     "output_type": "stream",
     "text": [
      "Mean Squared Error: 8.970277829348836e-25\n"
     ]
    }
   ],
   "source": [
    "model_1 = LinearRegression()\n",
    "model_1.fit(X_train, y_train)\n",
    "y_pred = model_1.predict(X_test)\n",
    "mse = mean_squared_error(y_test, y_pred)\n",
    "print(f'Mean Squared Error: {mse}')"
   ]
  },
  {
   "cell_type": "code",
   "execution_count": 263,
   "id": "33e13289-1383-4223-aa1e-95507515cb52",
   "metadata": {},
   "outputs": [
    {
     "name": "stdout",
     "output_type": "stream",
     "text": [
      "Mean Squared Error: 2315559.189733019\n"
     ]
    }
   ],
   "source": [
    "model_2 = RandomForestRegressor(n_estimators=100, random_state=42)\n",
    "model_2.fit(X_train, y_train)\n",
    "y_pred = model_2.predict(X_test)\n",
    "mse = mean_squared_error(y_test, y_pred)\n",
    "print(f'Mean Squared Error: {mse}')"
   ]
  },
  {
   "cell_type": "code",
   "execution_count": 264,
   "id": "3a716d72-8842-4e23-b3ac-21062e113b4f",
   "metadata": {},
   "outputs": [],
   "source": [
    "rfm_final = rfm_cluster.copy()"
   ]
  },
  {
   "cell_type": "code",
   "execution_count": 265,
   "id": "669a454c-8044-459b-a8dd-00e2c95a10c1",
   "metadata": {},
   "outputs": [
    {
     "data": {
      "text/html": [
       "<div>\n",
       "<style scoped>\n",
       "    .dataframe tbody tr th:only-of-type {\n",
       "        vertical-align: middle;\n",
       "    }\n",
       "\n",
       "    .dataframe tbody tr th {\n",
       "        vertical-align: top;\n",
       "    }\n",
       "\n",
       "    .dataframe thead th {\n",
       "        text-align: right;\n",
       "    }\n",
       "</style>\n",
       "<table border=\"1\" class=\"dataframe\">\n",
       "  <thead>\n",
       "    <tr style=\"text-align: right;\">\n",
       "      <th></th>\n",
       "      <th>recency</th>\n",
       "      <th>frequency</th>\n",
       "      <th>monetary_value</th>\n",
       "      <th>average_order_value</th>\n",
       "      <th>cluster</th>\n",
       "    </tr>\n",
       "    <tr>\n",
       "      <th>Customer ID</th>\n",
       "      <th></th>\n",
       "      <th></th>\n",
       "      <th></th>\n",
       "      <th></th>\n",
       "      <th></th>\n",
       "    </tr>\n",
       "  </thead>\n",
       "  <tbody>\n",
       "    <tr>\n",
       "      <th>12346.0</th>\n",
       "      <td>325</td>\n",
       "      <td>34</td>\n",
       "      <td>745.70</td>\n",
       "      <td>21.932353</td>\n",
       "      <td>2</td>\n",
       "    </tr>\n",
       "    <tr>\n",
       "      <th>12347.0</th>\n",
       "      <td>2</td>\n",
       "      <td>222</td>\n",
       "      <td>4921.53</td>\n",
       "      <td>22.169054</td>\n",
       "      <td>0</td>\n",
       "    </tr>\n",
       "    <tr>\n",
       "      <th>12348.0</th>\n",
       "      <td>75</td>\n",
       "      <td>51</td>\n",
       "      <td>1991.86</td>\n",
       "      <td>39.056078</td>\n",
       "      <td>0</td>\n",
       "    </tr>\n",
       "    <tr>\n",
       "      <th>12349.0</th>\n",
       "      <td>18</td>\n",
       "      <td>175</td>\n",
       "      <td>3786.50</td>\n",
       "      <td>21.637143</td>\n",
       "      <td>0</td>\n",
       "    </tr>\n",
       "    <tr>\n",
       "      <th>12350.0</th>\n",
       "      <td>310</td>\n",
       "      <td>17</td>\n",
       "      <td>331.34</td>\n",
       "      <td>19.490588</td>\n",
       "      <td>2</td>\n",
       "    </tr>\n",
       "  </tbody>\n",
       "</table>\n",
       "</div>"
      ],
      "text/plain": [
       "             recency  frequency  monetary_value  average_order_value  cluster\n",
       "Customer ID                                                                  \n",
       "12346.0          325         34          745.70            21.932353        2\n",
       "12347.0            2        222         4921.53            22.169054        0\n",
       "12348.0           75         51         1991.86            39.056078        0\n",
       "12349.0           18        175         3786.50            21.637143        0\n",
       "12350.0          310         17          331.34            19.490588        2"
      ]
     },
     "execution_count": 265,
     "metadata": {},
     "output_type": "execute_result"
    }
   ],
   "source": [
    "rfm_final.head()"
   ]
  },
  {
   "cell_type": "code",
   "execution_count": 266,
   "id": "a46648db-3ae8-4da6-8fc1-e03b82a29d8a",
   "metadata": {},
   "outputs": [],
   "source": [
    "rfm_final['CLV_predicted'] = model_1.predict(X)"
   ]
  },
  {
   "cell_type": "code",
   "execution_count": 267,
   "id": "f110f997-ae03-4112-be8f-0cc9d587f227",
   "metadata": {},
   "outputs": [
    {
     "data": {
      "text/html": [
       "<div>\n",
       "<style scoped>\n",
       "    .dataframe tbody tr th:only-of-type {\n",
       "        vertical-align: middle;\n",
       "    }\n",
       "\n",
       "    .dataframe tbody tr th {\n",
       "        vertical-align: top;\n",
       "    }\n",
       "\n",
       "    .dataframe thead th {\n",
       "        text-align: right;\n",
       "    }\n",
       "</style>\n",
       "<table border=\"1\" class=\"dataframe\">\n",
       "  <thead>\n",
       "    <tr style=\"text-align: right;\">\n",
       "      <th></th>\n",
       "      <th>recency</th>\n",
       "      <th>frequency</th>\n",
       "      <th>monetary_value</th>\n",
       "      <th>average_order_value</th>\n",
       "      <th>cluster</th>\n",
       "      <th>CLV_predicted</th>\n",
       "    </tr>\n",
       "    <tr>\n",
       "      <th>Customer ID</th>\n",
       "      <th></th>\n",
       "      <th></th>\n",
       "      <th></th>\n",
       "      <th></th>\n",
       "      <th></th>\n",
       "      <th></th>\n",
       "    </tr>\n",
       "  </thead>\n",
       "  <tbody>\n",
       "    <tr>\n",
       "      <th>12346.0</th>\n",
       "      <td>325</td>\n",
       "      <td>34</td>\n",
       "      <td>745.70</td>\n",
       "      <td>21.932353</td>\n",
       "      <td>2</td>\n",
       "      <td>745.70</td>\n",
       "    </tr>\n",
       "    <tr>\n",
       "      <th>12347.0</th>\n",
       "      <td>2</td>\n",
       "      <td>222</td>\n",
       "      <td>4921.53</td>\n",
       "      <td>22.169054</td>\n",
       "      <td>0</td>\n",
       "      <td>4921.53</td>\n",
       "    </tr>\n",
       "    <tr>\n",
       "      <th>12348.0</th>\n",
       "      <td>75</td>\n",
       "      <td>51</td>\n",
       "      <td>1991.86</td>\n",
       "      <td>39.056078</td>\n",
       "      <td>0</td>\n",
       "      <td>1991.86</td>\n",
       "    </tr>\n",
       "    <tr>\n",
       "      <th>12349.0</th>\n",
       "      <td>18</td>\n",
       "      <td>175</td>\n",
       "      <td>3786.50</td>\n",
       "      <td>21.637143</td>\n",
       "      <td>0</td>\n",
       "      <td>3786.50</td>\n",
       "    </tr>\n",
       "    <tr>\n",
       "      <th>12350.0</th>\n",
       "      <td>310</td>\n",
       "      <td>17</td>\n",
       "      <td>331.34</td>\n",
       "      <td>19.490588</td>\n",
       "      <td>2</td>\n",
       "      <td>331.34</td>\n",
       "    </tr>\n",
       "  </tbody>\n",
       "</table>\n",
       "</div>"
      ],
      "text/plain": [
       "             recency  frequency  monetary_value  average_order_value  cluster  \\\n",
       "Customer ID                                                                     \n",
       "12346.0          325         34          745.70            21.932353        2   \n",
       "12347.0            2        222         4921.53            22.169054        0   \n",
       "12348.0           75         51         1991.86            39.056078        0   \n",
       "12349.0           18        175         3786.50            21.637143        0   \n",
       "12350.0          310         17          331.34            19.490588        2   \n",
       "\n",
       "             CLV_predicted  \n",
       "Customer ID                 \n",
       "12346.0             745.70  \n",
       "12347.0            4921.53  \n",
       "12348.0            1991.86  \n",
       "12349.0            3786.50  \n",
       "12350.0             331.34  "
      ]
     },
     "execution_count": 267,
     "metadata": {},
     "output_type": "execute_result"
    }
   ],
   "source": [
    "rfm_final.head()"
   ]
  },
  {
   "cell_type": "code",
   "execution_count": 268,
   "id": "d7527d38-154c-4b16-a2cf-17aeb30664ad",
   "metadata": {},
   "outputs": [
    {
     "data": {
      "text/html": [
       "<div>\n",
       "<style scoped>\n",
       "    .dataframe tbody tr th:only-of-type {\n",
       "        vertical-align: middle;\n",
       "    }\n",
       "\n",
       "    .dataframe tbody tr th {\n",
       "        vertical-align: top;\n",
       "    }\n",
       "\n",
       "    .dataframe thead th {\n",
       "        text-align: right;\n",
       "    }\n",
       "</style>\n",
       "<table border=\"1\" class=\"dataframe\">\n",
       "  <thead>\n",
       "    <tr style=\"text-align: right;\">\n",
       "      <th></th>\n",
       "      <th>recency</th>\n",
       "      <th>frequency</th>\n",
       "      <th>monetary_value</th>\n",
       "      <th>average_order_value</th>\n",
       "      <th>cluster</th>\n",
       "      <th>CLV_predicted</th>\n",
       "    </tr>\n",
       "    <tr>\n",
       "      <th>Customer ID</th>\n",
       "      <th></th>\n",
       "      <th></th>\n",
       "      <th></th>\n",
       "      <th></th>\n",
       "      <th></th>\n",
       "      <th></th>\n",
       "    </tr>\n",
       "  </thead>\n",
       "  <tbody>\n",
       "    <tr>\n",
       "      <th>18102.0</th>\n",
       "      <td>0</td>\n",
       "      <td>1040</td>\n",
       "      <td>534839.920</td>\n",
       "      <td>514.269154</td>\n",
       "      <td>3</td>\n",
       "      <td>534839.920</td>\n",
       "    </tr>\n",
       "    <tr>\n",
       "      <th>14646.0</th>\n",
       "      <td>1</td>\n",
       "      <td>3849</td>\n",
       "      <td>511008.635</td>\n",
       "      <td>132.764000</td>\n",
       "      <td>3</td>\n",
       "      <td>511008.635</td>\n",
       "    </tr>\n",
       "    <tr>\n",
       "      <th>14156.0</th>\n",
       "      <td>9</td>\n",
       "      <td>4038</td>\n",
       "      <td>298754.675</td>\n",
       "      <td>73.985804</td>\n",
       "      <td>3</td>\n",
       "      <td>298754.675</td>\n",
       "    </tr>\n",
       "    <tr>\n",
       "      <th>14911.0</th>\n",
       "      <td>1</td>\n",
       "      <td>11077</td>\n",
       "      <td>277902.500</td>\n",
       "      <td>25.088246</td>\n",
       "      <td>3</td>\n",
       "      <td>277902.500</td>\n",
       "    </tr>\n",
       "    <tr>\n",
       "      <th>13694.0</th>\n",
       "      <td>3</td>\n",
       "      <td>1519</td>\n",
       "      <td>191622.665</td>\n",
       "      <td>126.150537</td>\n",
       "      <td>3</td>\n",
       "      <td>191622.665</td>\n",
       "    </tr>\n",
       "  </tbody>\n",
       "</table>\n",
       "</div>"
      ],
      "text/plain": [
       "             recency  frequency  monetary_value  average_order_value  cluster  \\\n",
       "Customer ID                                                                     \n",
       "18102.0            0       1040      534839.920           514.269154        3   \n",
       "14646.0            1       3849      511008.635           132.764000        3   \n",
       "14156.0            9       4038      298754.675            73.985804        3   \n",
       "14911.0            1      11077      277902.500            25.088246        3   \n",
       "13694.0            3       1519      191622.665           126.150537        3   \n",
       "\n",
       "             CLV_predicted  \n",
       "Customer ID                 \n",
       "18102.0         534839.920  \n",
       "14646.0         511008.635  \n",
       "14156.0         298754.675  \n",
       "14911.0         277902.500  \n",
       "13694.0         191622.665  "
      ]
     },
     "execution_count": 268,
     "metadata": {},
     "output_type": "execute_result"
    }
   ],
   "source": [
    "rfm_final.sort_values(\"CLV_predicted\", ascending=False).head()"
   ]
  },
  {
   "cell_type": "code",
   "execution_count": 281,
   "id": "2d3dccf0-d27c-49ac-9c55-843fea02ff0b",
   "metadata": {},
   "outputs": [
    {
     "name": "stdout",
     "output_type": "stream",
     "text": [
      "RMSE with Ridge: 9.009315955802778e-09\n"
     ]
    },
    {
     "name": "stderr",
     "output_type": "stream",
     "text": [
      "C:\\Users\\Lakshya Pawar\\AppData\\Local\\Programs\\Python\\Python312\\Lib\\site-packages\\sklearn\\metrics\\_regression.py:492: FutureWarning: 'squared' is deprecated in version 1.4 and will be removed in 1.6. To calculate the root mean squared error, use the function'root_mean_squared_error'.\n",
      "  warnings.warn(\n"
     ]
    }
   ],
   "source": [
    "from sklearn.linear_model import Ridge\n",
    "\n",
    "ridge = Ridge(alpha=1.0)\n",
    "ridge.fit(X_train, y_train)\n",
    "y_pred = ridge.predict(X_test)\n",
    "rmse = mean_squared_error(y_test, y_pred, squared=False)\n",
    "print(f'RMSE with Ridge: {rmse}')"
   ]
  },
  {
   "cell_type": "code",
   "execution_count": 282,
   "id": "cd2e09b4-a485-45f3-a4dc-e4ea5d08b83c",
   "metadata": {},
   "outputs": [],
   "source": [
    "rfm_final_ridge = rfm_cluster.copy()"
   ]
  },
  {
   "cell_type": "code",
   "execution_count": 283,
   "id": "5bd68b34-4f06-4a91-8d66-d9cf0b930b18",
   "metadata": {},
   "outputs": [],
   "source": [
    "rfm_final_ridge['CLTV_predicted'] = ridge.predict(X)"
   ]
  },
  {
   "cell_type": "code",
   "execution_count": 284,
   "id": "f0c398d3-9f65-46c4-90c3-ed48b80f41ac",
   "metadata": {},
   "outputs": [
    {
     "data": {
      "text/html": [
       "<div>\n",
       "<style scoped>\n",
       "    .dataframe tbody tr th:only-of-type {\n",
       "        vertical-align: middle;\n",
       "    }\n",
       "\n",
       "    .dataframe tbody tr th {\n",
       "        vertical-align: top;\n",
       "    }\n",
       "\n",
       "    .dataframe thead th {\n",
       "        text-align: right;\n",
       "    }\n",
       "</style>\n",
       "<table border=\"1\" class=\"dataframe\">\n",
       "  <thead>\n",
       "    <tr style=\"text-align: right;\">\n",
       "      <th></th>\n",
       "      <th>recency</th>\n",
       "      <th>frequency</th>\n",
       "      <th>monetary_value</th>\n",
       "      <th>average_order_value</th>\n",
       "      <th>cluster</th>\n",
       "      <th>CLTV_predicted</th>\n",
       "    </tr>\n",
       "    <tr>\n",
       "      <th>Customer ID</th>\n",
       "      <th></th>\n",
       "      <th></th>\n",
       "      <th></th>\n",
       "      <th></th>\n",
       "      <th></th>\n",
       "      <th></th>\n",
       "    </tr>\n",
       "  </thead>\n",
       "  <tbody>\n",
       "    <tr>\n",
       "      <th>12346.0</th>\n",
       "      <td>325</td>\n",
       "      <td>34</td>\n",
       "      <td>745.70</td>\n",
       "      <td>21.932353</td>\n",
       "      <td>2</td>\n",
       "      <td>745.70</td>\n",
       "    </tr>\n",
       "    <tr>\n",
       "      <th>12347.0</th>\n",
       "      <td>2</td>\n",
       "      <td>222</td>\n",
       "      <td>4921.53</td>\n",
       "      <td>22.169054</td>\n",
       "      <td>0</td>\n",
       "      <td>4921.53</td>\n",
       "    </tr>\n",
       "    <tr>\n",
       "      <th>12348.0</th>\n",
       "      <td>75</td>\n",
       "      <td>51</td>\n",
       "      <td>1991.86</td>\n",
       "      <td>39.056078</td>\n",
       "      <td>0</td>\n",
       "      <td>1991.86</td>\n",
       "    </tr>\n",
       "    <tr>\n",
       "      <th>12349.0</th>\n",
       "      <td>18</td>\n",
       "      <td>175</td>\n",
       "      <td>3786.50</td>\n",
       "      <td>21.637143</td>\n",
       "      <td>0</td>\n",
       "      <td>3786.50</td>\n",
       "    </tr>\n",
       "    <tr>\n",
       "      <th>12350.0</th>\n",
       "      <td>310</td>\n",
       "      <td>17</td>\n",
       "      <td>331.34</td>\n",
       "      <td>19.490588</td>\n",
       "      <td>2</td>\n",
       "      <td>331.34</td>\n",
       "    </tr>\n",
       "  </tbody>\n",
       "</table>\n",
       "</div>"
      ],
      "text/plain": [
       "             recency  frequency  monetary_value  average_order_value  cluster  \\\n",
       "Customer ID                                                                     \n",
       "12346.0          325         34          745.70            21.932353        2   \n",
       "12347.0            2        222         4921.53            22.169054        0   \n",
       "12348.0           75         51         1991.86            39.056078        0   \n",
       "12349.0           18        175         3786.50            21.637143        0   \n",
       "12350.0          310         17          331.34            19.490588        2   \n",
       "\n",
       "             CLTV_predicted  \n",
       "Customer ID                  \n",
       "12346.0              745.70  \n",
       "12347.0             4921.53  \n",
       "12348.0             1991.86  \n",
       "12349.0             3786.50  \n",
       "12350.0              331.34  "
      ]
     },
     "execution_count": 284,
     "metadata": {},
     "output_type": "execute_result"
    }
   ],
   "source": [
    "rfm_final_ridge.head()"
   ]
  },
  {
   "cell_type": "code",
   "execution_count": 287,
   "id": "025b669b-51cb-4722-b811-e50dd0404976",
   "metadata": {},
   "outputs": [
    {
     "data": {
      "text/html": [
       "<div>\n",
       "<style scoped>\n",
       "    .dataframe tbody tr th:only-of-type {\n",
       "        vertical-align: middle;\n",
       "    }\n",
       "\n",
       "    .dataframe tbody tr th {\n",
       "        vertical-align: top;\n",
       "    }\n",
       "\n",
       "    .dataframe thead th {\n",
       "        text-align: right;\n",
       "    }\n",
       "</style>\n",
       "<table border=\"1\" class=\"dataframe\">\n",
       "  <thead>\n",
       "    <tr style=\"text-align: right;\">\n",
       "      <th></th>\n",
       "      <th>recency</th>\n",
       "      <th>frequency</th>\n",
       "      <th>monetary_value</th>\n",
       "      <th>average_order_value</th>\n",
       "      <th>cluster</th>\n",
       "      <th>CLTV_predicted</th>\n",
       "    </tr>\n",
       "    <tr>\n",
       "      <th>Customer ID</th>\n",
       "      <th></th>\n",
       "      <th></th>\n",
       "      <th></th>\n",
       "      <th></th>\n",
       "      <th></th>\n",
       "      <th></th>\n",
       "    </tr>\n",
       "  </thead>\n",
       "  <tbody>\n",
       "    <tr>\n",
       "      <th>18102.0</th>\n",
       "      <td>0</td>\n",
       "      <td>1040</td>\n",
       "      <td>534839.920</td>\n",
       "      <td>514.269154</td>\n",
       "      <td>3</td>\n",
       "      <td>534839.919999</td>\n",
       "    </tr>\n",
       "    <tr>\n",
       "      <th>14646.0</th>\n",
       "      <td>1</td>\n",
       "      <td>3849</td>\n",
       "      <td>511008.635</td>\n",
       "      <td>132.764000</td>\n",
       "      <td>3</td>\n",
       "      <td>511008.634999</td>\n",
       "    </tr>\n",
       "    <tr>\n",
       "      <th>14156.0</th>\n",
       "      <td>9</td>\n",
       "      <td>4038</td>\n",
       "      <td>298754.675</td>\n",
       "      <td>73.985804</td>\n",
       "      <td>3</td>\n",
       "      <td>298754.675000</td>\n",
       "    </tr>\n",
       "    <tr>\n",
       "      <th>14911.0</th>\n",
       "      <td>1</td>\n",
       "      <td>11077</td>\n",
       "      <td>277902.500</td>\n",
       "      <td>25.088246</td>\n",
       "      <td>3</td>\n",
       "      <td>277902.500000</td>\n",
       "    </tr>\n",
       "    <tr>\n",
       "      <th>13694.0</th>\n",
       "      <td>3</td>\n",
       "      <td>1519</td>\n",
       "      <td>191622.665</td>\n",
       "      <td>126.150537</td>\n",
       "      <td>3</td>\n",
       "      <td>191622.665000</td>\n",
       "    </tr>\n",
       "  </tbody>\n",
       "</table>\n",
       "</div>"
      ],
      "text/plain": [
       "             recency  frequency  monetary_value  average_order_value  cluster  \\\n",
       "Customer ID                                                                     \n",
       "18102.0            0       1040      534839.920           514.269154        3   \n",
       "14646.0            1       3849      511008.635           132.764000        3   \n",
       "14156.0            9       4038      298754.675            73.985804        3   \n",
       "14911.0            1      11077      277902.500            25.088246        3   \n",
       "13694.0            3       1519      191622.665           126.150537        3   \n",
       "\n",
       "             CLTV_predicted  \n",
       "Customer ID                  \n",
       "18102.0       534839.919999  \n",
       "14646.0       511008.634999  \n",
       "14156.0       298754.675000  \n",
       "14911.0       277902.500000  \n",
       "13694.0       191622.665000  "
      ]
     },
     "execution_count": 287,
     "metadata": {},
     "output_type": "execute_result"
    }
   ],
   "source": [
    "rfm_final_ridge.sort_values(\"CLTV_predicted\", ascending=False).head()"
   ]
  },
  {
   "cell_type": "code",
   "execution_count": 288,
   "id": "8ce55895-1fa4-47f6-b3e7-0c07028f9541",
   "metadata": {},
   "outputs": [
    {
     "data": {
      "text/plain": [
       "(5763, 6)"
      ]
     },
     "execution_count": 288,
     "metadata": {},
     "output_type": "execute_result"
    }
   ],
   "source": [
    "rfm_final_ridge.shape"
   ]
  },
  {
   "cell_type": "code",
   "execution_count": 289,
   "id": "15c1e944-be8b-4968-8b4b-a045314d8100",
   "metadata": {},
   "outputs": [],
   "source": [
    "rfm_final_ridge.drop('cluster', axis=1, inplace=True)"
   ]
  },
  {
   "cell_type": "code",
   "execution_count": 290,
   "id": "936c0e51-3af1-4234-aacd-06adb74e8212",
   "metadata": {},
   "outputs": [
    {
     "data": {
      "text/plain": [
       "(5763, 5)"
      ]
     },
     "execution_count": 290,
     "metadata": {},
     "output_type": "execute_result"
    }
   ],
   "source": [
    "rfm_final_ridge.shape"
   ]
  },
  {
   "cell_type": "code",
   "execution_count": 292,
   "id": "ae3800be-3091-48fd-a7fb-f446cf1a4465",
   "metadata": {},
   "outputs": [
    {
     "data": {
      "text/html": [
       "<div>\n",
       "<style scoped>\n",
       "    .dataframe tbody tr th:only-of-type {\n",
       "        vertical-align: middle;\n",
       "    }\n",
       "\n",
       "    .dataframe tbody tr th {\n",
       "        vertical-align: top;\n",
       "    }\n",
       "\n",
       "    .dataframe thead th {\n",
       "        text-align: right;\n",
       "    }\n",
       "</style>\n",
       "<table border=\"1\" class=\"dataframe\">\n",
       "  <thead>\n",
       "    <tr style=\"text-align: right;\">\n",
       "      <th></th>\n",
       "      <th>recency</th>\n",
       "      <th>frequency</th>\n",
       "      <th>monetary_value</th>\n",
       "      <th>average_order_value</th>\n",
       "      <th>CLTV_predicted</th>\n",
       "    </tr>\n",
       "    <tr>\n",
       "      <th>Customer ID</th>\n",
       "      <th></th>\n",
       "      <th></th>\n",
       "      <th></th>\n",
       "      <th></th>\n",
       "      <th></th>\n",
       "    </tr>\n",
       "  </thead>\n",
       "  <tbody>\n",
       "    <tr>\n",
       "      <th>18102.0</th>\n",
       "      <td>0</td>\n",
       "      <td>1040</td>\n",
       "      <td>534839.920</td>\n",
       "      <td>514.269154</td>\n",
       "      <td>534839.919999</td>\n",
       "    </tr>\n",
       "    <tr>\n",
       "      <th>14646.0</th>\n",
       "      <td>1</td>\n",
       "      <td>3849</td>\n",
       "      <td>511008.635</td>\n",
       "      <td>132.764000</td>\n",
       "      <td>511008.634999</td>\n",
       "    </tr>\n",
       "    <tr>\n",
       "      <th>14156.0</th>\n",
       "      <td>9</td>\n",
       "      <td>4038</td>\n",
       "      <td>298754.675</td>\n",
       "      <td>73.985804</td>\n",
       "      <td>298754.675000</td>\n",
       "    </tr>\n",
       "    <tr>\n",
       "      <th>14911.0</th>\n",
       "      <td>1</td>\n",
       "      <td>11077</td>\n",
       "      <td>277902.500</td>\n",
       "      <td>25.088246</td>\n",
       "      <td>277902.500000</td>\n",
       "    </tr>\n",
       "    <tr>\n",
       "      <th>13694.0</th>\n",
       "      <td>3</td>\n",
       "      <td>1519</td>\n",
       "      <td>191622.665</td>\n",
       "      <td>126.150537</td>\n",
       "      <td>191622.665000</td>\n",
       "    </tr>\n",
       "  </tbody>\n",
       "</table>\n",
       "</div>"
      ],
      "text/plain": [
       "             recency  frequency  monetary_value  average_order_value  \\\n",
       "Customer ID                                                            \n",
       "18102.0            0       1040      534839.920           514.269154   \n",
       "14646.0            1       3849      511008.635           132.764000   \n",
       "14156.0            9       4038      298754.675            73.985804   \n",
       "14911.0            1      11077      277902.500            25.088246   \n",
       "13694.0            3       1519      191622.665           126.150537   \n",
       "\n",
       "             CLTV_predicted  \n",
       "Customer ID                  \n",
       "18102.0       534839.919999  \n",
       "14646.0       511008.634999  \n",
       "14156.0       298754.675000  \n",
       "14911.0       277902.500000  \n",
       "13694.0       191622.665000  "
      ]
     },
     "execution_count": 292,
     "metadata": {},
     "output_type": "execute_result"
    }
   ],
   "source": [
    "rfm_final_ridge.sort_values(\"CLTV_predicted\", ascending=False).head()"
   ]
  },
  {
   "cell_type": "code",
   "execution_count": 293,
   "id": "5c084717-74ac-4889-b0e3-da8c25f27181",
   "metadata": {},
   "outputs": [],
   "source": [
    "df_final = rfm_final_ridge.copy()"
   ]
  },
  {
   "cell_type": "code",
   "execution_count": 294,
   "id": "0d097a81-31f7-469f-819a-8d79b8f9de4d",
   "metadata": {},
   "outputs": [],
   "source": [
    "df_final.drop('monetary_value', axis=1, inplace=True)"
   ]
  },
  {
   "cell_type": "code",
   "execution_count": 301,
   "id": "e4a21505-d437-4f0b-b56a-57bd0d7e9134",
   "metadata": {},
   "outputs": [],
   "source": [
    "df_final_sort = rfm_final_ridge.sort_values(\"CLTV_predicted\", ascending=False)"
   ]
  },
  {
   "cell_type": "code",
   "execution_count": 304,
   "id": "e48c5754-bd27-4ed1-aeac-0463e1a53d1b",
   "metadata": {},
   "outputs": [
    {
     "data": {
      "text/html": [
       "<div>\n",
       "<style scoped>\n",
       "    .dataframe tbody tr th:only-of-type {\n",
       "        vertical-align: middle;\n",
       "    }\n",
       "\n",
       "    .dataframe tbody tr th {\n",
       "        vertical-align: top;\n",
       "    }\n",
       "\n",
       "    .dataframe thead th {\n",
       "        text-align: right;\n",
       "    }\n",
       "</style>\n",
       "<table border=\"1\" class=\"dataframe\">\n",
       "  <thead>\n",
       "    <tr style=\"text-align: right;\">\n",
       "      <th></th>\n",
       "      <th>recency</th>\n",
       "      <th>frequency</th>\n",
       "      <th>monetary_value</th>\n",
       "      <th>average_order_value</th>\n",
       "      <th>CLTV_predicted</th>\n",
       "    </tr>\n",
       "    <tr>\n",
       "      <th>Customer ID</th>\n",
       "      <th></th>\n",
       "      <th></th>\n",
       "      <th></th>\n",
       "      <th></th>\n",
       "      <th></th>\n",
       "    </tr>\n",
       "  </thead>\n",
       "  <tbody>\n",
       "    <tr>\n",
       "      <th>18102.0</th>\n",
       "      <td>0</td>\n",
       "      <td>1040</td>\n",
       "      <td>534839.920</td>\n",
       "      <td>514.269154</td>\n",
       "      <td>534839.919999</td>\n",
       "    </tr>\n",
       "    <tr>\n",
       "      <th>14646.0</th>\n",
       "      <td>1</td>\n",
       "      <td>3849</td>\n",
       "      <td>511008.635</td>\n",
       "      <td>132.764000</td>\n",
       "      <td>511008.634999</td>\n",
       "    </tr>\n",
       "    <tr>\n",
       "      <th>14156.0</th>\n",
       "      <td>9</td>\n",
       "      <td>4038</td>\n",
       "      <td>298754.675</td>\n",
       "      <td>73.985804</td>\n",
       "      <td>298754.675000</td>\n",
       "    </tr>\n",
       "    <tr>\n",
       "      <th>14911.0</th>\n",
       "      <td>1</td>\n",
       "      <td>11077</td>\n",
       "      <td>277902.500</td>\n",
       "      <td>25.088246</td>\n",
       "      <td>277902.500000</td>\n",
       "    </tr>\n",
       "    <tr>\n",
       "      <th>13694.0</th>\n",
       "      <td>3</td>\n",
       "      <td>1519</td>\n",
       "      <td>191622.665</td>\n",
       "      <td>126.150537</td>\n",
       "      <td>191622.665000</td>\n",
       "    </tr>\n",
       "    <tr>\n",
       "      <th>...</th>\n",
       "      <td>...</td>\n",
       "      <td>...</td>\n",
       "      <td>...</td>\n",
       "      <td>...</td>\n",
       "      <td>...</td>\n",
       "    </tr>\n",
       "    <tr>\n",
       "      <th>13112.0</th>\n",
       "      <td>541</td>\n",
       "      <td>2</td>\n",
       "      <td>20.600</td>\n",
       "      <td>10.300000</td>\n",
       "      <td>20.600000</td>\n",
       "    </tr>\n",
       "    <tr>\n",
       "      <th>13163.0</th>\n",
       "      <td>610</td>\n",
       "      <td>2</td>\n",
       "      <td>17.650</td>\n",
       "      <td>8.825000</td>\n",
       "      <td>17.650000</td>\n",
       "    </tr>\n",
       "    <tr>\n",
       "      <th>16878.0</th>\n",
       "      <td>84</td>\n",
       "      <td>3</td>\n",
       "      <td>13.300</td>\n",
       "      <td>4.433333</td>\n",
       "      <td>13.300000</td>\n",
       "    </tr>\n",
       "    <tr>\n",
       "      <th>18115.0</th>\n",
       "      <td>697</td>\n",
       "      <td>3</td>\n",
       "      <td>9.700</td>\n",
       "      <td>3.233333</td>\n",
       "      <td>9.700000</td>\n",
       "    </tr>\n",
       "    <tr>\n",
       "      <th>14792.0</th>\n",
       "      <td>63</td>\n",
       "      <td>2</td>\n",
       "      <td>6.200</td>\n",
       "      <td>3.100000</td>\n",
       "      <td>6.200000</td>\n",
       "    </tr>\n",
       "  </tbody>\n",
       "</table>\n",
       "<p>5763 rows × 5 columns</p>\n",
       "</div>"
      ],
      "text/plain": [
       "             recency  frequency  monetary_value  average_order_value  \\\n",
       "Customer ID                                                            \n",
       "18102.0            0       1040      534839.920           514.269154   \n",
       "14646.0            1       3849      511008.635           132.764000   \n",
       "14156.0            9       4038      298754.675            73.985804   \n",
       "14911.0            1      11077      277902.500            25.088246   \n",
       "13694.0            3       1519      191622.665           126.150537   \n",
       "...              ...        ...             ...                  ...   \n",
       "13112.0          541          2          20.600            10.300000   \n",
       "13163.0          610          2          17.650             8.825000   \n",
       "16878.0           84          3          13.300             4.433333   \n",
       "18115.0          697          3           9.700             3.233333   \n",
       "14792.0           63          2           6.200             3.100000   \n",
       "\n",
       "             CLTV_predicted  \n",
       "Customer ID                  \n",
       "18102.0       534839.919999  \n",
       "14646.0       511008.634999  \n",
       "14156.0       298754.675000  \n",
       "14911.0       277902.500000  \n",
       "13694.0       191622.665000  \n",
       "...                     ...  \n",
       "13112.0           20.600000  \n",
       "13163.0           17.650000  \n",
       "16878.0           13.300000  \n",
       "18115.0            9.700000  \n",
       "14792.0            6.200000  \n",
       "\n",
       "[5763 rows x 5 columns]"
      ]
     },
     "execution_count": 304,
     "metadata": {},
     "output_type": "execute_result"
    }
   ],
   "source": [
    "df_final_sort"
   ]
  },
  {
   "cell_type": "code",
   "execution_count": 305,
   "id": "00195a27-a489-466c-97e7-bd089e582263",
   "metadata": {},
   "outputs": [],
   "source": [
    "df_final_sort.drop('monetary_value', axis=1, inplace=True)"
   ]
  },
  {
   "cell_type": "code",
   "execution_count": 306,
   "id": "a3f3fddb-4a4d-4ce2-a484-0865cc2b7f29",
   "metadata": {},
   "outputs": [],
   "source": [
    "df_final_sort.to_excel('CLTV_predicted.xlsx')"
   ]
  },
  {
   "cell_type": "code",
   "execution_count": null,
   "id": "d52e3bb5-25ac-48f7-8446-8404dc08da8c",
   "metadata": {},
   "outputs": [],
   "source": []
  }
 ],
 "metadata": {
  "kernelspec": {
   "display_name": "Python 3 (ipykernel)",
   "language": "python",
   "name": "python3"
  },
  "language_info": {
   "codemirror_mode": {
    "name": "ipython",
    "version": 3
   },
   "file_extension": ".py",
   "mimetype": "text/x-python",
   "name": "python",
   "nbconvert_exporter": "python",
   "pygments_lexer": "ipython3",
   "version": "3.12.3"
  }
 },
 "nbformat": 4,
 "nbformat_minor": 5
}
